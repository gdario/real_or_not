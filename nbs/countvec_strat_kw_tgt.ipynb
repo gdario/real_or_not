{
 "cells": [
  {
   "cell_type": "markdown",
   "metadata": {},
   "source": [
    "# Count Vectorizer and Ridge Regression\n",
    "\n",
    "This is just a copy of the \"Getting Started\" notebook."
   ]
  },
  {
   "cell_type": "code",
   "execution_count": 1,
   "metadata": {},
   "outputs": [],
   "source": [
    "from pathlib import Path\n",
    "import numpy as np # linear algebra\n",
    "import pandas as pd # data processing, CSV file I/O (e.g. pd.read_csv)\n",
    "from sklearn.pipeline import Pipeline\n",
    "from sklearn.feature_extraction.text import CountVectorizer\n",
    "from sklearn.linear_model import RidgeClassifier\n",
    "from sklearn.model_selection import cross_val_score\n",
    "from sklearn.model_selection import StratifiedKFold, cross_val_predict\n",
    "from sklearn.metrics import classification_report, confusion_matrix"
   ]
  },
  {
   "cell_type": "code",
   "execution_count": 2,
   "metadata": {},
   "outputs": [],
   "source": [
    "BASE_DIR = Path('/home/giovenko/Projects/real_or_not')\n",
    "INPUT_DIR = BASE_DIR/'data/input'\n",
    "OUTPUT_DIR = BASE_DIR/'data/output'"
   ]
  },
  {
   "cell_type": "code",
   "execution_count": 3,
   "metadata": {},
   "outputs": [],
   "source": [
    "train_df = pd.read_csv(INPUT_DIR/'train.csv')\n",
    "test_df = pd.read_csv(INPUT_DIR/'test.csv')"
   ]
  },
  {
   "cell_type": "code",
   "execution_count": 4,
   "metadata": {},
   "outputs": [],
   "source": [
    "train_df['keyword'] = train_df.keyword.fillna('missing')\n",
    "train_df['str_target'] = train_df.target.apply(lambda x: str(x))\n",
    "train_df['keyword_target'] = train_df.keyword.str.cat(train_df.str_target)\n",
    "\n",
    "test_df['keyword'] = test_df.keyword.fillna('missing')"
   ]
  },
  {
   "cell_type": "code",
   "execution_count": 5,
   "metadata": {},
   "outputs": [],
   "source": [
    "# Pipeline\n",
    "pipe = Pipeline([\n",
    "    ('cvec', CountVectorizer(lowercase=True, stop_words='english')),\n",
    "    ('ridge', RidgeClassifier())\n",
    "])"
   ]
  },
  {
   "cell_type": "code",
   "execution_count": 6,
   "metadata": {},
   "outputs": [],
   "source": [
    "# Cross validation scheme stratified by keyword\n",
    "skf = StratifiedKFold(n_splits=5, shuffle=True, random_state=42)\n",
    "# cv = skf.split(train_df, train_df.keyword)\n",
    "cv = skf.split(train_df, train_df.keyword_target)"
   ]
  },
  {
   "cell_type": "code",
   "execution_count": 7,
   "metadata": {},
   "outputs": [
    {
     "name": "stderr",
     "output_type": "stream",
     "text": [
      "/home/giovenko/miniconda3/envs/ml/lib/python3.8/site-packages/sklearn/model_selection/_split.py:670: UserWarning: The least populated class in y has only 1 members, which is less than n_splits=5.\n",
      "  warnings.warn((\"The least populated class in y has only %d\"\n"
     ]
    },
    {
     "name": "stdout",
     "output_type": "stream",
     "text": [
      "score: 0.735 +/- 0.026\n"
     ]
    }
   ],
   "source": [
    "# Classifier\n",
    "scores = cross_val_score(\n",
    "    pipe, train_df['text'], train_df[\"target\"], cv=cv, scoring='f1')\n",
    "\n",
    "print('score: {:.3f} +/- {:.3f}'.format(scores.mean(), 2*scores.std()))"
   ]
  },
  {
   "cell_type": "code",
   "execution_count": 8,
   "metadata": {},
   "outputs": [
    {
     "name": "stderr",
     "output_type": "stream",
     "text": [
      "/home/giovenko/miniconda3/envs/ml/lib/python3.8/site-packages/sklearn/model_selection/_split.py:670: UserWarning: The least populated class in y has only 1 members, which is less than n_splits=5.\n",
      "  warnings.warn((\"The least populated class in y has only %d\"\n"
     ]
    },
    {
     "data": {
      "text/plain": [
       "array([[3749,  593],\n",
       "       [1023, 2248]])"
      ]
     },
     "execution_count": 8,
     "metadata": {},
     "output_type": "execute_result"
    }
   ],
   "source": [
    "cv = skf.split(train_df, train_df.keyword_target)\n",
    "y_pred = cross_val_predict(pipe, train_df.text, train_df.target, cv=cv)\n",
    "confusion_matrix(train_df['target'], y_pred)"
   ]
  },
  {
   "cell_type": "code",
   "execution_count": 9,
   "metadata": {},
   "outputs": [
    {
     "data": {
      "text/plain": [
       "Pipeline(steps=[('cvec', CountVectorizer(stop_words='english')),\n",
       "                ('ridge', RidgeClassifier())])"
      ]
     },
     "execution_count": 9,
     "metadata": {},
     "output_type": "execute_result"
    }
   ],
   "source": [
    "pipe.fit(train_df.text, train_df.target)"
   ]
  },
  {
   "cell_type": "code",
   "execution_count": 10,
   "metadata": {},
   "outputs": [],
   "source": [
    "# We reuse the sample submission replacing our own predictions\n",
    "sample_submission = pd.read_csv(INPUT_DIR/'sample_submission.csv')\n",
    "sample_submission['target'] = pipe.predict(test_df.text)\n",
    "sample_submission.to_csv(OUTPUT_DIR/'submission_countvec_keyword_target.csv', index=False)"
   ]
  }
 ],
 "metadata": {
  "kernelspec": {
   "display_name": "Python 3",
   "language": "python",
   "name": "python3"
  },
  "language_info": {
   "codemirror_mode": {
    "name": "ipython",
    "version": 3
   },
   "file_extension": ".py",
   "mimetype": "text/x-python",
   "name": "python",
   "nbconvert_exporter": "python",
   "pygments_lexer": "ipython3",
   "version": "3.8.5"
  }
 },
 "nbformat": 4,
 "nbformat_minor": 2
}
