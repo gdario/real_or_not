{
 "cells": [
  {
   "cell_type": "markdown",
   "metadata": {},
   "source": [
    "# Tf-Idf + Stratification w.r.t. keyword and target"
   ]
  },
  {
   "cell_type": "code",
   "execution_count": 1,
   "metadata": {},
   "outputs": [],
   "source": [
    "import pandas as pd\n",
    "from pathlib import Path\n",
    "from sklearn.base import clone\n",
    "from sklearn.pipeline import Pipeline\n",
    "from sklearn.linear_model import RidgeClassifier\n",
    "from sklearn.model_selection import cross_val_score, StratifiedKFold\n",
    "from sklearn.model_selection import cross_validate, learning_curve\n",
    "from sklearn.model_selection import GridSearchCV\n",
    "from sklearn.metrics import classification_report, confusion_matrix\n",
    "from sklearn.feature_extraction.text import TfidfVectorizer\n",
    "from sklearn.feature_extraction.text import CountVectorizer"
   ]
  },
  {
   "cell_type": "code",
   "execution_count": 2,
   "metadata": {},
   "outputs": [],
   "source": [
    "# BASE_DIR = Path('/home/giovenko/Projects/real_or_not')\n",
    "HOME_DIR = Path.home()\n",
    "BASE_DIR = Path(HOME_DIR/'Projects/real_or_not')\n",
    "INPUT_DIR = BASE_DIR/'data/input'\n",
    "OUTPUT_DIR = BASE_DIR/'data/output'"
   ]
  },
  {
   "cell_type": "code",
   "execution_count": 3,
   "metadata": {},
   "outputs": [],
   "source": [
    "train_df = pd.read_csv(INPUT_DIR/'train.csv')\n",
    "test_df = pd.read_csv(INPUT_DIR/'test.csv')\n",
    "\n",
    "train_df['keyword'] = train_df.keyword.fillna('missing')\n",
    "train_df['str_target'] = train_df.target.apply(lambda x: str(x))\n",
    "train_df['keyword_target'] = train_df.keyword.str.cat(train_df.str_target)\n",
    "\n",
    "test_df['keyword'] = test_df.keyword.fillna('missing')"
   ]
  },
  {
   "cell_type": "code",
   "execution_count": 4,
   "metadata": {},
   "outputs": [],
   "source": [
    "pipe = Pipeline([\n",
    "    ('cvec', TfidfVectorizer(stop_words='english')),\n",
    "    ('clf', RidgeClassifier())\n",
    "])"
   ]
  },
  {
   "cell_type": "code",
   "execution_count": 5,
   "metadata": {},
   "outputs": [],
   "source": [
    "# Cross validation scheme stratified by keyword\n",
    "skf = StratifiedKFold(n_splits=5, shuffle=True, random_state=42)\n",
    "cv = skf.split(train_df, train_df.target)"
   ]
  },
  {
   "cell_type": "markdown",
   "metadata": {},
   "source": [
    "## `cross_validate`"
   ]
  },
  {
   "cell_type": "code",
   "execution_count": 6,
   "metadata": {},
   "outputs": [
    {
     "name": "stdout",
     "output_type": "stream",
     "text": [
      "score: 0.752 +/- 0.017\n"
     ]
    }
   ],
   "source": [
    "model = clone(pipe)\n",
    "scores = cross_val_score(model, train_df['text'], train_df['target'], scoring='f1', cv=cv)\n",
    "print('score: {:.3f} +/- {:.3f}'.format(scores.mean(), 2*scores.std()))"
   ]
  },
  {
   "cell_type": "code",
   "execution_count": 7,
   "metadata": {},
   "outputs": [
    {
     "name": "stdout",
     "output_type": "stream",
     "text": [
      "   fit_time  score_time  test_score  train_score\n",
      "0  0.102859    0.036826    0.761600     0.967465\n",
      "1  0.081157    0.035374    0.757895     0.965114\n",
      "2  0.086012    0.037368    0.740331     0.966148\n",
      "3  0.087776    0.036981    0.743134     0.967567\n",
      "4  0.088459    0.036885    0.757017     0.967302\n"
     ]
    }
   ],
   "source": [
    "model = clone(pipe)\n",
    "cv = skf.split(train_df, train_df.target)\n",
    "scores = cross_validate(model, train_df['text'], train_df['target'], scoring='f1', cv=cv, return_train_score=True)\n",
    "print(pd.DataFrame(scores))"
   ]
  },
  {
   "cell_type": "markdown",
   "metadata": {},
   "source": [
    "## `learning_curves`"
   ]
  },
  {
   "cell_type": "code",
   "execution_count": 8,
   "metadata": {},
   "outputs": [],
   "source": [
    "model = clone(pipe)\n",
    "cv = skf.split(train_df, train_df.target)\n",
    "lc = learning_curve(model, train_df.text, train_df.target, cv=cv, scoring='f1', random_state=42)"
   ]
  },
  {
   "cell_type": "code",
   "execution_count": 9,
   "metadata": {},
   "outputs": [
    {
     "data": {
      "text/plain": [
       "(array([ 609, 1979, 3349, 4719, 6090]),\n",
       " array([[0.97014925, 0.97757848, 0.96412556, 0.97654584, 0.98297872],\n",
       "        [0.97920858, 0.97924773, 0.97392438, 0.97459893, 0.98023715],\n",
       "        [0.97844355, 0.97736256, 0.97002924, 0.9722122 , 0.9756275 ],\n",
       "        [0.96710023, 0.96682704, 0.96493902, 0.96675192, 0.96867838],\n",
       "        [0.96746542, 0.96511401, 0.96614786, 0.96755391, 0.96728972]]),\n",
       " array([[0.42994652, 0.47204969, 0.50455927, 0.50398406, 0.5155642 ],\n",
       "        [0.6238698 , 0.66958808, 0.64995678, 0.64111498, 0.65164645],\n",
       "        [0.71262458, 0.73344103, 0.70483871, 0.69424169, 0.70703764],\n",
       "        [0.74939173, 0.7568438 , 0.72230889, 0.72944932, 0.74641148],\n",
       "        [0.7616    , 0.75789474, 0.74033149, 0.74313409, 0.75801282]]))"
      ]
     },
     "execution_count": 9,
     "metadata": {},
     "output_type": "execute_result"
    }
   ],
   "source": [
    "lc"
   ]
  },
  {
   "cell_type": "code",
   "execution_count": 10,
   "metadata": {},
   "outputs": [
    {
     "data": {
      "text/plain": [
       "<matplotlib.legend.Legend at 0x7f1a59b8f430>"
      ]
     },
     "execution_count": 10,
     "metadata": {},
     "output_type": "execute_result"
    },
    {
     "data": {
      "image/png": "[encoded data removed]",
      "text/plain": [
       "<Figure size 432x288 with 1 Axes>"
      ]
     },
     "metadata": {
      "needs_background": "light"
     },
     "output_type": "display_data"
    }
   ],
   "source": [
    "import matplotlib.pyplot as plt\n",
    "plt.plot(lc[0], lc[1], '-r', label='Train')\n",
    "plt.plot(lc[0], lc[2], '-b', label='Test')\n",
    "plt.xlabel('number of instances')\n",
    "plt.ylabel('f1 score')\n",
    "plt.legend()"
   ]
  },
  {
   "cell_type": "markdown",
   "metadata": {},
   "source": [
    "## Inspecting overfitting\n",
    "\n",
    "We have many more features than we have observations."
   ]
  },
  {
   "cell_type": "code",
   "execution_count": 11,
   "metadata": {},
   "outputs": [
    {
     "name": "stdout",
     "output_type": "stream",
     "text": [
      "N. features: 21363\n",
      "N. instances: 7613\n"
     ]
    }
   ],
   "source": [
    "model.fit(train_df['text'], train_df['target'])\n",
    "print('N. features: {}\\nN. instances: {}'.format(len(model['cvec'].vocabulary_),\n",
    "                                                  train_df.shape[0]))"
   ]
  },
  {
   "cell_type": "markdown",
   "metadata": {},
   "source": [
    "However, neither selecting the top 1000, 5000, 10000 Tf-Idf features, nor increasing the value of `alpha` has a beneficial effect, in the sense that both the training and the validation performances degrade.\n",
    "\n",
    "One surprising thing is that the optimal `alpha` value is 1, i.e. the default value. This is a strange coincidence."
   ]
  },
  {
   "cell_type": "code",
   "execution_count": 12,
   "metadata": {},
   "outputs": [
    {
     "data": {
      "text/plain": [
       "GridSearchCV(cv=<generator object _BaseKFold.split at 0x7f1a59b056d0>,\n",
       "             estimator=Pipeline(steps=[('cvec',\n",
       "                                        TfidfVectorizer(stop_words='english')),\n",
       "                                       ('clf', RidgeClassifier())]),\n",
       "             param_grid={'cvec__max_df': [0.5, 0.7, 0.9]}, scoring='f1')"
      ]
     },
     "execution_count": 12,
     "metadata": {},
     "output_type": "execute_result"
    }
   ],
   "source": [
    "param_grid = {\n",
    "    'cvec__max_df': [0.5, 0.7, 0.9]\n",
    "}\n",
    "\n",
    "model = clone(pipe)\n",
    "cv = skf.split(train_df, train_df.target)\n",
    "\n",
    "gscv = GridSearchCV(model, param_grid, scoring='f1', cv=cv)\n",
    "gscv.fit(train_df.text, train_df.target)"
   ]
  },
  {
   "cell_type": "code",
   "execution_count": 13,
   "metadata": {},
   "outputs": [
    {
     "data": {
      "text/plain": [
       "{'cvec__max_df': 0.5}"
      ]
     },
     "execution_count": 13,
     "metadata": {},
     "output_type": "execute_result"
    }
   ],
   "source": [
    "gscv.best_params_"
   ]
  },
  {
   "cell_type": "code",
   "execution_count": 14,
   "metadata": {},
   "outputs": [
    {
     "data": {
      "text/plain": [
       "0.7519954312418587"
      ]
     },
     "execution_count": 14,
     "metadata": {},
     "output_type": "execute_result"
    }
   ],
   "source": [
    "gscv.best_score_"
   ]
  },
  {
   "cell_type": "code",
   "execution_count": 15,
   "metadata": {},
   "outputs": [],
   "source": [
    "from sklearn.naive_bayes import MultinomialNB\n",
    "\n",
    "pipe = Pipeline([\n",
    "    ('vec', CountVectorizer()),\n",
    "    ('clf', MultinomialNB())\n",
    "])"
   ]
  },
  {
   "cell_type": "code",
   "execution_count": 16,
   "metadata": {},
   "outputs": [
    {
     "data": {
      "text/plain": [
       "GridSearchCV(cv=<generator object _BaseKFold.split at 0x7f1a59948900>,\n",
       "             estimator=Pipeline(steps=[('vec', CountVectorizer()),\n",
       "                                       ('clf', MultinomialNB())]),\n",
       "             param_grid={'vec__max_df': [0.5, 0.7, 0.9],\n",
       "                         'vec__stop_words': (None, 'english'),\n",
       "                         'vec__strip_accents': (None, 'ascii', 'unicode')},\n",
       "             scoring='f1')"
      ]
     },
     "execution_count": 16,
     "metadata": {},
     "output_type": "execute_result"
    }
   ],
   "source": [
    "model = clone(pipe)\n",
    "cv = skf.split(train_df, train_df.target)\n",
    "param_grid = {\n",
    "    'vec__max_df': [0.5, 0.7, 0.9],\n",
    "    'vec__strip_accents': (None, 'ascii', 'unicode'),\n",
    "    'vec__stop_words': (None, 'english')\n",
    "}\n",
    "\n",
    "gscv = GridSearchCV(model, param_grid = param_grid, scoring='f1', cv=cv)\n",
    "gscv.fit(train_df.text, train_df.target)"
   ]
  },
  {
   "cell_type": "code",
   "execution_count": 17,
   "metadata": {},
   "outputs": [
    {
     "data": {
      "text/plain": [
       "(0.7579921200164805, 0.0021125134337367252)"
      ]
     },
     "execution_count": 17,
     "metadata": {},
     "output_type": "execute_result"
    }
   ],
   "source": [
    "gscv.cv_results_['mean_test_score'].max(), gscv.cv_results_['mean_test_score'].std()"
   ]
  },
  {
   "cell_type": "code",
   "execution_count": 18,
   "metadata": {},
   "outputs": [
    {
     "name": "stdout",
     "output_type": "stream",
     "text": [
      "score: 0.758 +/- 0.029\n"
     ]
    }
   ],
   "source": [
    "cv = skf.split(train_df, train_df.target)\n",
    "scores = cross_val_score(gscv.best_estimator_, train_df['text'], train_df['target'], scoring='f1', cv=cv)\n",
    "print('score: {:.3f} +/- {:.3f}'.format(scores.mean(), 2*scores.std()))"
   ]
  },
  {
   "cell_type": "code",
   "execution_count": 19,
   "metadata": {},
   "outputs": [],
   "source": [
    "sample_submission = pd.read_csv(INPUT_DIR/'sample_submission.csv')\n",
    "sample_submission['target'] = gscv.predict(test_df.text)\n",
    "sample_submission.to_csv(OUTPUT_DIR/'submission_cvec_target_multinomNB.csv', index=False)"
   ]
  },
  {
   "cell_type": "code",
   "execution_count": null,
   "metadata": {},
   "outputs": [],
   "source": []
  }
 ],
 "metadata": {
  "kernelspec": {
   "display_name": "Python 3",
   "language": "python",
   "name": "python3"
  },
  "language_info": {
   "codemirror_mode": {
    "name": "ipython",
    "version": 3
   },
   "file_extension": ".py",
   "mimetype": "text/x-python",
   "name": "python",
   "nbconvert_exporter": "python",
   "pygments_lexer": "ipython3",
   "version": "3.8.5"
  }
 },
 "nbformat": 4,
 "nbformat_minor": 4
}
