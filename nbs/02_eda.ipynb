{
 "cells": [
  {
   "cell_type": "markdown",
   "metadata": {},
   "source": [
    "# Count Vectorizer and Ridge Regression\n",
    "\n",
    "This is just a copy of the \"Getting Started\" notebook."
   ]
  },
  {
   "cell_type": "code",
   "execution_count": 14,
   "metadata": {},
   "outputs": [],
   "source": [
    "import re\n",
    "from pathlib import Path\n",
    "import numpy as np\n",
    "import pandas as pd\n",
    "import matplotlib.pyplot as plt\n",
    "\n",
    "%matplotlib inline"
   ]
  },
  {
   "cell_type": "code",
   "execution_count": 2,
   "metadata": {},
   "outputs": [],
   "source": [
    "BASE_DIR = Path('/Users/dariog/Learning/Kaggle/real_or_not')\n",
    "INPUT_DIR = BASE_DIR/'data/input'\n",
    "OUTPUT_DIR = BASE_DIR/'data/output'"
   ]
  },
  {
   "cell_type": "code",
   "execution_count": 3,
   "metadata": {},
   "outputs": [],
   "source": [
    "train_df = pd.read_csv(INPUT_DIR/'train.csv')\n",
    "test_df = pd.read_csv(INPUT_DIR/'test.csv')"
   ]
  },
  {
   "cell_type": "markdown",
   "metadata": {},
   "source": [
    "The CV score on the training set is quite different from the score on the leaderboard. It would be interesting to understand why, and if we can make them more similar. The number and positive and negative targets is not too unbalanced."
   ]
  },
  {
   "cell_type": "code",
   "execution_count": 4,
   "metadata": {},
   "outputs": [
    {
     "data": {
      "text/plain": [
       "0    0.57034\n",
       "1    0.42966\n",
       "Name: target, dtype: float64"
      ]
     },
     "execution_count": 4,
     "metadata": {},
     "output_type": "execute_result"
    }
   ],
   "source": [
    "train_df.target.value_counts(normalize=True)"
   ]
  },
  {
   "cell_type": "markdown",
   "metadata": {},
   "source": [
    "Is there any association between the length of the text and the labels? This does not seem to be the case."
   ]
  },
  {
   "cell_type": "code",
   "execution_count": 5,
   "metadata": {},
   "outputs": [
    {
     "name": "stdout",
     "output_type": "stream",
     "text": [
      "   id keyword location                                               text  \\\n",
      "0   1     NaN      NaN  Our Deeds are the Reason of this #earthquake M...   \n",
      "1   4     NaN      NaN             Forest fire near La Ronge Sask. Canada   \n",
      "2   5     NaN      NaN  All residents asked to 'shelter in place' are ...   \n",
      "3   6     NaN      NaN  13,000 people receive #wildfires evacuation or...   \n",
      "4   7     NaN      NaN  Just got sent this photo from Ruby #Alaska as ...   \n",
      "\n",
      "   target  text_length  \n",
      "0       1           69  \n",
      "1       1           38  \n",
      "2       1          133  \n",
      "3       1           65  \n",
      "4       1           88  \n"
     ]
    },
    {
     "data": {
      "text/plain": [
       "<AxesSubplot:xlabel='text_length', ylabel='target'>"
      ]
     },
     "execution_count": 5,
     "metadata": {},
     "output_type": "execute_result"
    },
    {
     "data": {
      "image/png": "[encoded data removed]",
      "text/plain": [
       "<Figure size 432x288 with 1 Axes>"
      ]
     },
     "metadata": {
      "needs_background": "light"
     },
     "output_type": "display_data"
    }
   ],
   "source": [
    "train_df['text_length'] = train_df['text'].str.len()\n",
    "print(train_df.head())\n",
    "train_df.plot('text_length', 'target', kind='scatter')"
   ]
  },
  {
   "cell_type": "markdown",
   "metadata": {},
   "source": [
    "Are the entries properly shuffled? From the plot below this seems to be the case"
   ]
  },
  {
   "cell_type": "code",
   "execution_count": 6,
   "metadata": {},
   "outputs": [
    {
     "data": {
      "text/plain": [
       "[<matplotlib.lines.Line2D at 0x7f9b808a6670>]"
      ]
     },
     "execution_count": 6,
     "metadata": {},
     "output_type": "execute_result"
    },
    {
     "data": {
      "image/png": "[encoded data removed]",
      "text/plain": [
       "<Figure size 432x288 with 1 Axes>"
      ]
     },
     "metadata": {
      "needs_background": "light"
     },
     "output_type": "display_data"
    }
   ],
   "source": [
    "plt.plot(train_df.index, train_df.target, '.')"
   ]
  },
  {
   "cell_type": "code",
   "execution_count": null,
   "metadata": {},
   "outputs": [],
   "source": []
  },
  {
   "cell_type": "code",
   "execution_count": null,
   "metadata": {},
   "outputs": [],
   "source": []
  },
  {
   "cell_type": "markdown",
   "metadata": {},
   "source": [
    "## Location"
   ]
  },
  {
   "cell_type": "code",
   "execution_count": 7,
   "metadata": {},
   "outputs": [
    {
     "name": "stdout",
     "output_type": "stream",
     "text": [
      "NaN                 0.332720\n",
      "USA                 0.013661\n",
      "New York            0.009326\n",
      "United States       0.006568\n",
      "London              0.005911\n",
      "                      ...   \n",
      "Flushing, Queens    0.000131\n",
      "MIchigan            0.000131\n",
      "CHICAGO             0.000131\n",
      "Windsor,Ontario     0.000131\n",
      "Fukuoka, Japan      0.000131\n",
      "Name: location, Length: 3342, dtype: float64\n"
     ]
    }
   ],
   "source": [
    "print(train_df.location.value_counts(normalize=True, dropna=False))"
   ]
  },
  {
   "cell_type": "code",
   "execution_count": 8,
   "metadata": {},
   "outputs": [
    {
     "name": "stdout",
     "output_type": "stream",
     "text": [
      "NaN                        0.338645\n",
      "New York                   0.011646\n",
      "USA                        0.011339\n",
      "Worldwide                  0.004903\n",
      "United States              0.004597\n",
      "                             ...   \n",
      "Piscataway, NJ             0.000306\n",
      "Toronto  #6ixSideMafia     0.000306\n",
      "Johnstown, NY              0.000306\n",
      "kyiv. ukraine              0.000306\n",
      "Saint Andrews, Scotland    0.000306\n",
      "Name: location, Length: 1603, dtype: float64\n"
     ]
    }
   ],
   "source": [
    "print(test_df.location.value_counts(normalize=True, dropna=False))"
   ]
  },
  {
   "cell_type": "markdown",
   "metadata": {},
   "source": [
    "## Keywords"
   ]
  },
  {
   "cell_type": "code",
   "execution_count": 9,
   "metadata": {},
   "outputs": [
    {
     "name": "stdout",
     "output_type": "stream",
     "text": [
      "NaN                      0.008013\n",
      "fatalities               0.005911\n",
      "deluge                   0.005517\n",
      "armageddon               0.005517\n",
      "harm                     0.005386\n",
      "                           ...   \n",
      "forest%20fire            0.002496\n",
      "epicentre                0.001576\n",
      "threat                   0.001445\n",
      "inundation               0.001314\n",
      "radiation%20emergency    0.001182\n",
      "Name: keyword, Length: 222, dtype: float64\n"
     ]
    }
   ],
   "source": [
    "print(train_df.keyword.value_counts(normalize=True, dropna=False))"
   ]
  },
  {
   "cell_type": "code",
   "execution_count": 11,
   "metadata": {},
   "outputs": [
    {
     "name": "stdout",
     "output_type": "stream",
     "text": [
      "NaN                      0.007968\n",
      "deluged                  0.007049\n",
      "rubble                   0.006742\n",
      "demolished               0.006742\n",
      "sirens                   0.006436\n",
      "                           ...   \n",
      "fatalities               0.001532\n",
      "radiation%20emergency    0.001532\n",
      "forest%20fire            0.001532\n",
      "inundation               0.001226\n",
      "epicentre                0.000306\n",
      "Name: keyword, Length: 222, dtype: float64\n"
     ]
    }
   ],
   "source": [
    "print(test_df.keyword.value_counts(normalize=True, dropna=False))"
   ]
  },
  {
   "cell_type": "markdown",
   "metadata": {},
   "source": [
    "## Cleaning\n",
    "\n",
    "There is a large number of identical texts that differ only by an http or https link. These texts often have different labels. We should get rid of the contradictory ones, or go for a majority vote."
   ]
  },
  {
   "cell_type": "code",
   "execution_count": 40,
   "metadata": {},
   "outputs": [],
   "source": [
    "def remove_handle(txt):\n",
    "    return re.sub('@[^ ]+', '', txt)\n",
    "\n",
    "def remove_url(txt):\n",
    "    return re.sub('https?[^ ]+', '', txt)\n",
    "\n",
    "def remove_hashtag(txt):\n",
    "    return txt.replace('#', '')\n",
    "\n",
    "def process_txt(txt):\n",
    "    txt = remove_handle(txt)\n",
    "    txt = remove_url(txt)\n",
    "    txt = remove_hashtag(txt)\n",
    "    txt = re.sub('\\s+', ' ', txt)\n",
    "    txt = re.sub('^ ', '', txt)\n",
    "    return txt.lower()\n",
    "\n",
    "train_texts = train_df.text.values\n",
    "contains_url = [txt for txt in train_texts if txt.find('http') != -1]\n",
    "contains_handle = [txt for txt in train_texts if txt.find('@') != -1]\n",
    "dirty_txt = contains_url + contains_handle"
   ]
  },
  {
   "cell_type": "code",
   "execution_count": 41,
   "metadata": {},
   "outputs": [],
   "source": [
    "clean_txt = [process_txt(txt) for txt in dirty_txt]"
   ]
  },
  {
   "cell_type": "code",
   "execution_count": 42,
   "metadata": {},
   "outputs": [
    {
     "data": {
      "text/plain": [
       "['wholesale markets ablaze ',\n",
       " 'we always try to bring the heavy. metal rt ',\n",
       " 'africanbaze: breaking news:nigeria flag set ablaze in aba. ',\n",
       " 'on plus side look at the sky last night it was ablaze ',\n",
       " 'inec office in abia set ablaze - ',\n",
       " 'barbados bridgetown jamaica \\x89ûò two cars set ablaze: santa cruz \\x89ûó head of the st elizabeth police superintende... ',\n",
       " 'check these out: nsfw',\n",
       " 'i wanted to set chicago ablaze with my preaching... but not my hotel! ',\n",
       " 'i gained 3 followers in the last week. you? know your stats and grow with ',\n",
       " 'how the west was burned: thousands of wildfires ablaze in california alone ']"
      ]
     },
     "execution_count": 42,
     "metadata": {},
     "output_type": "execute_result"
    }
   ],
   "source": [
    "clean_txt[:10]"
   ]
  },
  {
   "cell_type": "code",
   "execution_count": 43,
   "metadata": {},
   "outputs": [
    {
     "data": {
      "text/plain": [
       "['lol. u got wrecked',\n",
       " 'he not gonna be thinking that when he gets his shit wrecked on the first day of school ??',\n",
       " \"that's beyond adorable. i hope it won't be wrecked now that it's been noticed ...\",\n",
       " 'see u the night wee barra to get absolutely wrecked ????',\n",
       " 'did you get wrecked again?',\n",
       " \"... he's gone. you can relax. i thought the wife who wrecked her cake was a goner mind lol whoops\",\n",
       " 'and i wrecked you both',\n",
       " 'great atmosphere at the british lion gig tonight. hearing is wrecked. ',\n",
       " 'rt nws issues severe thunderstorm warnings for parts of ar nc ok. expect more trauma cases: ',\n",
       " 'the out of control wild fires in california even in the northern part of the state. very troubling.']"
      ]
     },
     "execution_count": 43,
     "metadata": {},
     "output_type": "execute_result"
    }
   ],
   "source": [
    "clean_txt[-10:]"
   ]
  },
  {
   "cell_type": "code",
   "execution_count": 45,
   "metadata": {},
   "outputs": [],
   "source": [
    "train_df['text'] = train_df['text'].apply(process_txt)\n",
    "test_df['text'] = test_df['text'].apply(process_txt)"
   ]
  }
 ],
 "metadata": {
  "kernelspec": {
   "display_name": "Python 3",
   "language": "python",
   "name": "python3"
  },
  "language_info": {
   "codemirror_mode": {
    "name": "ipython",
    "version": 3
   },
   "file_extension": ".py",
   "mimetype": "text/x-python",
   "name": "python",
   "nbconvert_exporter": "python",
   "pygments_lexer": "ipython3",
   "version": "3.8.5"
  }
 },
 "nbformat": 4,
 "nbformat_minor": 2
}
