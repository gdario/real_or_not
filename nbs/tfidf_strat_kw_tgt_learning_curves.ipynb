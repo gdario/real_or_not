{
 "cells": [
  {
   "cell_type": "markdown",
   "metadata": {},
   "source": [
    "# Tf-Idf + Stratification w.r.t. keyword and target"
   ]
  },
  {
   "cell_type": "code",
   "execution_count": 1,
   "metadata": {},
   "outputs": [],
   "source": [
    "import pandas as pd\n",
    "from pathlib import Path\n",
    "from sklearn.pipeline import Pipeline\n",
    "from sklearn.linear_model import LogisticRegression\n",
    "from sklearn.model_selection import cross_val_score, StratifiedKFold\n",
    "from sklearn.model_selection import cross_validate, learning_curve\n",
    "from sklearn.model_selection import GridSearchCV\n",
    "from sklearn.metrics import classification_report, confusion_matrix\n",
    "from sklearn.feature_extraction.text import TfidfVectorizer\n",
    "from sklearn.feature_extraction.text import CountVectorizer"
   ]
  },
  {
   "cell_type": "code",
   "execution_count": 2,
   "metadata": {},
   "outputs": [],
   "source": [
    "# BASE_DIR = Path('/home/giovenko/Projects/real_or_not')\n",
    "HOME_DIR = Path.home()\n",
    "BASE_DIR = Path(HOME_DIR/'Projects/real_or_not')\n",
    "INPUT_DIR = BASE_DIR/'data/input'\n",
    "OUTPUT_DIR = BASE_DIR/'data/output'"
   ]
  },
  {
   "cell_type": "code",
   "execution_count": 3,
   "metadata": {},
   "outputs": [],
   "source": [
    "train_df = pd.read_csv(INPUT_DIR/'train.csv')\n",
    "test_df = pd.read_csv(INPUT_DIR/'test.csv')\n",
    "\n",
    "train_df['keyword'] = train_df.keyword.fillna('missing')\n",
    "train_df['str_target'] = train_df.target.apply(lambda x: str(x))\n",
    "train_df['keyword_target'] = train_df.keyword.str.cat(train_df.str_target)\n",
    "\n",
    "test_df['keyword'] = test_df.keyword.fillna('missing')"
   ]
  },
  {
   "cell_type": "code",
   "execution_count": 4,
   "metadata": {},
   "outputs": [],
   "source": [
    "pipe = Pipeline([\n",
    "    ('cvec', TfidfVectorizer(stop_words='english')),\n",
    "    # ('cvec', CountVectorizer(stop_words='english')),\n",
    "    #('clf', RidgeClassifier())\n",
    "    ('clf', LogisticRegression())\n",
    "])"
   ]
  },
  {
   "cell_type": "code",
   "execution_count": 5,
   "metadata": {},
   "outputs": [],
   "source": [
    "# Cross validation scheme stratified by keyword\n",
    "skf = StratifiedKFold(n_splits=5) #, shuffle=True, random_state=42)\n",
    "cv = skf.split(train_df, train_df.keyword_target)"
   ]
  },
  {
   "cell_type": "markdown",
   "metadata": {},
   "source": [
    "## `cross_validate`"
   ]
  },
  {
   "cell_type": "code",
   "execution_count": 6,
   "metadata": {},
   "outputs": [
    {
     "name": "stderr",
     "output_type": "stream",
     "text": [
      "/home/giovenko/miniconda3/envs/ml/lib/python3.8/site-packages/sklearn/model_selection/_split.py:670: UserWarning: The least populated class in y has only 1 members, which is less than n_splits=5.\n",
      "  warnings.warn((\"The least populated class in y has only %d\"\n"
     ]
    }
   ],
   "source": [
    "from sklearn.base import clone\n",
    "model = clone(pipe)\n",
    "scores = cross_validate(model, train_df['text'], train_df['target'], scoring='f1', cv=cv, return_train_score=True)\n",
    "# scores = cross_val_score(pipe, train_df['text'], train_df['target'], scoring='f1', cv=cv)\n",
    "# print('score: {:.3f} +/- {:.3f}'.format(scores.mean(), 2*scores.std()))"
   ]
  },
  {
   "cell_type": "code",
   "execution_count": 7,
   "metadata": {},
   "outputs": [
    {
     "name": "stdout",
     "output_type": "stream",
     "text": [
      "   fit_time  score_time  test_score  train_score\n",
      "0  0.363833    0.037083    0.748079     0.864208\n",
      "1  0.258825    0.036626    0.746929     0.859445\n",
      "2  0.282267    0.037286    0.745161     0.858955\n",
      "3  0.229987    0.037290    0.752743     0.862455\n",
      "4  0.280228    0.037295    0.732787     0.864343\n"
     ]
    }
   ],
   "source": [
    "print(pd.DataFrame(scores))"
   ]
  },
  {
   "cell_type": "markdown",
   "metadata": {},
   "source": [
    "## `learning_curves`"
   ]
  },
  {
   "cell_type": "code",
   "execution_count": 8,
   "metadata": {},
   "outputs": [
    {
     "name": "stderr",
     "output_type": "stream",
     "text": [
      "/home/giovenko/miniconda3/envs/ml/lib/python3.8/site-packages/sklearn/model_selection/_split.py:670: UserWarning: The least populated class in y has only 1 members, which is less than n_splits=5.\n",
      "  warnings.warn((\"The least populated class in y has only %d\"\n"
     ]
    }
   ],
   "source": [
    "model = clone(pipe)\n",
    "cv = skf.split(train_df, train_df.keyword_target)\n",
    "lc = learning_curve(model, train_df.text, train_df.target, cv=cv, scoring='f1', random_state=42)"
   ]
  },
  {
   "cell_type": "code",
   "execution_count": 9,
   "metadata": {},
   "outputs": [
    {
     "data": {
      "text/plain": [
       "(array([ 609, 1979, 3349, 4719, 6090]),\n",
       " array([[0.75070028, 0.76584022, 0.75862069, 0.76595745, 0.752     ],\n",
       "        [0.84388807, 0.84171598, 0.83961567, 0.84023669, 0.83258595],\n",
       "        [0.86722156, 0.86741214, 0.86611045, 0.86523126, 0.86804452],\n",
       "        [0.8649685 , 0.86079467, 0.85674625, 0.86717892, 0.86243094],\n",
       "        [0.86420788, 0.85944456, 0.85895538, 0.86239696, 0.86428571]]),\n",
       " array([[0.25680934, 0.25725095, 0.2549505 , 0.25699746, 0.26566416],\n",
       "        [0.55842813, 0.56517413, 0.54905847, 0.5595117 , 0.56673511],\n",
       "        [0.68592058, 0.69012876, 0.69394714, 0.71210762, 0.70497427],\n",
       "        [0.73367698, 0.73873874, 0.74104235, 0.73452078, 0.73044925],\n",
       "        [0.74807857, 0.74692875, 0.74516129, 0.75274262, 0.73278689]]))"
      ]
     },
     "execution_count": 9,
     "metadata": {},
     "output_type": "execute_result"
    }
   ],
   "source": [
    "lc"
   ]
  },
  {
   "cell_type": "code",
   "execution_count": 10,
   "metadata": {},
   "outputs": [
    {
     "data": {
      "text/plain": [
       "<matplotlib.legend.Legend at 0x7f08ff4f52b0>"
      ]
     },
     "execution_count": 10,
     "metadata": {},
     "output_type": "execute_result"
    },
    {
     "data": {
      "image/png": "[encoded data removed]",
      "text/plain": [
       "<Figure size 432x288 with 1 Axes>"
      ]
     },
     "metadata": {
      "needs_background": "light"
     },
     "output_type": "display_data"
    }
   ],
   "source": [
    "import matplotlib.pyplot as plt\n",
    "plt.plot(lc[0], lc[1], '-r', label='Train')\n",
    "plt.plot(lc[0], lc[2], '-b', label='Test')\n",
    "plt.xlabel('number of instances')\n",
    "plt.ylabel('f1 score')\n",
    "plt.legend()"
   ]
  },
  {
   "cell_type": "markdown",
   "metadata": {},
   "source": [
    "## Understanding overfitting\n",
    "\n",
    "We have many more features than we have observations."
   ]
  },
  {
   "cell_type": "code",
   "execution_count": 11,
   "metadata": {},
   "outputs": [
    {
     "name": "stdout",
     "output_type": "stream",
     "text": [
      "N. features: 21363\n",
      "N. instances: 7613\n"
     ]
    }
   ],
   "source": [
    "model.fit(train_df['text'], train_df['target'])\n",
    "print('N. features: {}\\nN. instances: {}'.format(len(model['cvec'].vocabulary_),\n",
    "                                                  train_df.shape[0]))"
   ]
  },
  {
   "cell_type": "markdown",
   "metadata": {},
   "source": [
    "However, neither selecting the top 1000, 5000, 10000 Tf-Idf features, nor increasing the value of `alpha` has a beneficial effect, in the sense that both the training and the validation performances degrade.\n",
    "\n",
    "One surprising thing is that the optimal `alpha` value is 1, i.e. the default value. This is a strange coincidence."
   ]
  },
  {
   "cell_type": "code",
   "execution_count": 13,
   "metadata": {},
   "outputs": [
    {
     "name": "stderr",
     "output_type": "stream",
     "text": [
      "/home/giovenko/miniconda3/envs/ml/lib/python3.8/site-packages/sklearn/model_selection/_split.py:670: UserWarning: The least populated class in y has only 1 members, which is less than n_splits=5.\n",
      "  warnings.warn((\"The least populated class in y has only %d\"\n",
      "/home/giovenko/miniconda3/envs/ml/lib/python3.8/site-packages/sklearn/linear_model/_logistic.py:762: ConvergenceWarning: lbfgs failed to converge (status=1):\n",
      "STOP: TOTAL NO. of ITERATIONS REACHED LIMIT.\n",
      "\n",
      "Increase the number of iterations (max_iter) or scale the data as shown in:\n",
      "    https://scikit-learn.org/stable/modules/preprocessing.html\n",
      "Please also refer to the documentation for alternative solver options:\n",
      "    https://scikit-learn.org/stable/modules/linear_model.html#logistic-regression\n",
      "  n_iter_i = _check_optimize_result(\n",
      "/home/giovenko/miniconda3/envs/ml/lib/python3.8/site-packages/sklearn/linear_model/_logistic.py:762: ConvergenceWarning: lbfgs failed to converge (status=1):\n",
      "STOP: TOTAL NO. of ITERATIONS REACHED LIMIT.\n",
      "\n",
      "Increase the number of iterations (max_iter) or scale the data as shown in:\n",
      "    https://scikit-learn.org/stable/modules/preprocessing.html\n",
      "Please also refer to the documentation for alternative solver options:\n",
      "    https://scikit-learn.org/stable/modules/linear_model.html#logistic-regression\n",
      "  n_iter_i = _check_optimize_result(\n",
      "/home/giovenko/miniconda3/envs/ml/lib/python3.8/site-packages/sklearn/linear_model/_logistic.py:762: ConvergenceWarning: lbfgs failed to converge (status=1):\n",
      "STOP: TOTAL NO. of ITERATIONS REACHED LIMIT.\n",
      "\n",
      "Increase the number of iterations (max_iter) or scale the data as shown in:\n",
      "    https://scikit-learn.org/stable/modules/preprocessing.html\n",
      "Please also refer to the documentation for alternative solver options:\n",
      "    https://scikit-learn.org/stable/modules/linear_model.html#logistic-regression\n",
      "  n_iter_i = _check_optimize_result(\n",
      "/home/giovenko/miniconda3/envs/ml/lib/python3.8/site-packages/sklearn/linear_model/_logistic.py:762: ConvergenceWarning: lbfgs failed to converge (status=1):\n",
      "STOP: TOTAL NO. of ITERATIONS REACHED LIMIT.\n",
      "\n",
      "Increase the number of iterations (max_iter) or scale the data as shown in:\n",
      "    https://scikit-learn.org/stable/modules/preprocessing.html\n",
      "Please also refer to the documentation for alternative solver options:\n",
      "    https://scikit-learn.org/stable/modules/linear_model.html#logistic-regression\n",
      "  n_iter_i = _check_optimize_result(\n",
      "/home/giovenko/miniconda3/envs/ml/lib/python3.8/site-packages/sklearn/linear_model/_logistic.py:762: ConvergenceWarning: lbfgs failed to converge (status=1):\n",
      "STOP: TOTAL NO. of ITERATIONS REACHED LIMIT.\n",
      "\n",
      "Increase the number of iterations (max_iter) or scale the data as shown in:\n",
      "    https://scikit-learn.org/stable/modules/preprocessing.html\n",
      "Please also refer to the documentation for alternative solver options:\n",
      "    https://scikit-learn.org/stable/modules/linear_model.html#logistic-regression\n",
      "  n_iter_i = _check_optimize_result(\n",
      "/home/giovenko/miniconda3/envs/ml/lib/python3.8/site-packages/sklearn/linear_model/_logistic.py:762: ConvergenceWarning: lbfgs failed to converge (status=1):\n",
      "STOP: TOTAL NO. of ITERATIONS REACHED LIMIT.\n",
      "\n",
      "Increase the number of iterations (max_iter) or scale the data as shown in:\n",
      "    https://scikit-learn.org/stable/modules/preprocessing.html\n",
      "Please also refer to the documentation for alternative solver options:\n",
      "    https://scikit-learn.org/stable/modules/linear_model.html#logistic-regression\n",
      "  n_iter_i = _check_optimize_result(\n"
     ]
    },
    {
     "data": {
      "text/plain": [
       "GridSearchCV(cv=<generator object _BaseKFold.split at 0x7f08f5eb33c0>,\n",
       "             estimator=Pipeline(steps=[('cvec',\n",
       "                                        TfidfVectorizer(stop_words='english')),\n",
       "                                       ('clf', LogisticRegression())]),\n",
       "             param_grid={'clf__C': [0.01, 0.1, 1, 10, 100]}, scoring='f1')"
      ]
     },
     "execution_count": 13,
     "metadata": {},
     "output_type": "execute_result"
    }
   ],
   "source": [
    "param_grid = {\n",
    "    'clf__C': [0.01, 0.1, 1, 10, 100]\n",
    "}\n",
    "model = clone(pipe)\n",
    "cv = skf.split(train_df, train_df.keyword_target)\n",
    "gscv = GridSearchCV(model, param_grid, scoring='f1', cv=cv)\n",
    "gscv.fit(train_df.text, train_df.target)"
   ]
  },
  {
   "cell_type": "code",
   "execution_count": 14,
   "metadata": {},
   "outputs": [
    {
     "data": {
      "text/plain": [
       "{'clf__C': 10}"
      ]
     },
     "execution_count": 14,
     "metadata": {},
     "output_type": "execute_result"
    }
   ],
   "source": [
    "gscv.best_params_"
   ]
  },
  {
   "cell_type": "code",
   "execution_count": 15,
   "metadata": {},
   "outputs": [
    {
     "data": {
      "text/plain": [
       "0.7479327987567058"
      ]
     },
     "execution_count": 15,
     "metadata": {},
     "output_type": "execute_result"
    }
   ],
   "source": [
    "gscv.best_score_"
   ]
  },
  {
   "cell_type": "code",
   "execution_count": 12,
   "metadata": {},
   "outputs": [],
   "source": [
    "# sample_submission = pd.read_csv(INPUT_DIR/'sample_submission.csv')\n",
    "# sample_submission['target'] = y_pred\n",
    "# sample_submission.to_csv(OUTPUT_DIR/'submission_tfidf_keyword_target.csv', index=False)"
   ]
  }
 ],
 "metadata": {
  "kernelspec": {
   "display_name": "Python 3",
   "language": "python",
   "name": "python3"
  },
  "language_info": {
   "codemirror_mode": {
    "name": "ipython",
    "version": 3
   },
   "file_extension": ".py",
   "mimetype": "text/x-python",
   "name": "python",
   "nbconvert_exporter": "python",
   "pygments_lexer": "ipython3",
   "version": "3.8.5"
  }
 },
 "nbformat": 4,
 "nbformat_minor": 4
}
