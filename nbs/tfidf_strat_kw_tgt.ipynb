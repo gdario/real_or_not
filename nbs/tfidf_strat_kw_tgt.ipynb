{
 "cells": [
  {
   "cell_type": "markdown",
   "metadata": {},
   "source": [
    "# Tf-Idf + Stratification w.r.t. keyword and target"
   ]
  },
  {
   "cell_type": "code",
   "execution_count": null,
   "metadata": {},
   "outputs": [],
   "source": [
    "import pandas as pd\n",
    "from pathlib import Path\n",
    "from sklearn.pipeline import Pipeline\n",
    "from sklearn.linear_model import RidgeClassifier\n",
    "from sklearn.model_selection import cross_val_score, StratifiedKFold\n",
    "from sklearn.metrics import classification_report, confusion_matrix\n",
    "from sklearn.feature_extraction.text import TfidfVectorizer\n",
    "from sklearn.feature_extraction.text import CountVectorizer"
   ]
  },
  {
   "cell_type": "code",
   "execution_count": null,
   "metadata": {},
   "outputs": [],
   "source": [
    "# BASE_DIR = Path('/home/giovenko/Projects/real_or_not')\n",
    "HOME_DIR = Path.home()\n",
    "BASE_DIR = Path(HOME_DIR/'Projects/real_or_not')\n",
    "INPUT_DIR = BASE_DIR/'data/input'\n",
    "OUTPUT_DIR = BASE_DIR/'data/output'"
   ]
  },
  {
   "cell_type": "code",
   "execution_count": null,
   "metadata": {},
   "outputs": [],
   "source": [
    "train_df = pd.read_csv(INPUT_DIR/'train.csv')\n",
    "test_df = pd.read_csv(INPUT_DIR/'test.csv')\n",
    "\n",
    "train_df['keyword'] = train_df.keyword.fillna('missing')\n",
    "train_df['str_target'] = train_df.target.apply(lambda x: str(x))\n",
    "train_df['keyword_target'] = train_df.keyword.str.cat(train_df.str_target)\n",
    "\n",
    "test_df['keyword'] = test_df.keyword.fillna('missing')"
   ]
  },
  {
   "cell_type": "code",
   "execution_count": null,
   "metadata": {},
   "outputs": [],
   "source": [
    "pipe = Pipeline([('cvec', TfidfVectorizer(stop_words='english')),\n",
    "                 ('ridge', RidgeClassifier())])"
   ]
  },
  {
   "cell_type": "code",
   "execution_count": null,
   "metadata": {},
   "outputs": [],
   "source": [
    "# Cross validation scheme stratified by keyword\n",
    "skf = StratifiedKFold(n_splits=5) #, shuffle=True, random_state=42)\n",
    "cv = skf.split(train_df, train_df.keyword_target)"
   ]
  },
  {
   "cell_type": "code",
   "execution_count": null,
   "metadata": {},
   "outputs": [],
   "source": [
    "scores = cross_val_score(pipe, train_df['text'], train_df['target'], scoring='f1', cv=cv)\n",
    "print('score: {:.3f} +/- {:.3f}'.format(scores.mean(), 2*scores.std()))"
   ]
  },
  {
   "cell_type": "code",
   "execution_count": null,
   "metadata": {},
   "outputs": [],
   "source": [
    "pipe.fit(train_df['text'], train_df['target'])\n",
    "y_pred = pipe.predict(test_df['text'])"
   ]
  },
  {
   "cell_type": "code",
   "execution_count": null,
   "metadata": {},
   "outputs": [],
   "source": [
    "sample_submission = pd.read_csv(INPUT_DIR/'sample_submission.csv')\n",
    "sample_submission['target'] = y_pred\n",
    "sample_submission.to_csv(OUTPUT_DIR/'submission_tfidf_keyword_target.csv', index=False)"
   ]
  }
 ],
 "metadata": {
  "kernelspec": {
   "display_name": "Python 3",
   "language": "python",
   "name": "python3"
  },
  "language_info": {
   "codemirror_mode": {
    "name": "ipython",
    "version": 3
   },
   "file_extension": ".py",
   "mimetype": "text/x-python",
   "name": "python",
   "nbconvert_exporter": "python",
   "pygments_lexer": "ipython3",
   "version": "3.8.5"
  }
 },
 "nbformat": 4,
 "nbformat_minor": 4
}
