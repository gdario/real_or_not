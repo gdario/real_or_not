{
 "cells": [
  {
   "cell_type": "markdown",
   "metadata": {},
   "source": [
    "# Basic Dataset Exploration"
   ]
  },
  {
   "cell_type": "code",
   "execution_count": 151,
   "metadata": {},
   "outputs": [],
   "source": [
    "import re\n",
    "from pathlib import Path\n",
    "import numpy as np\n",
    "import pandas as pd\n",
    "import matplotlib.pyplot as plt\n",
    "\n",
    "%matplotlib inline"
   ]
  },
  {
   "cell_type": "code",
   "execution_count": 152,
   "metadata": {},
   "outputs": [],
   "source": [
    "BASE_DIR = Path('/home/giovenko/Projects/real_or_not')\n",
    "INPUT_DIR = BASE_DIR/'data/input'\n",
    "OUTPUT_DIR = BASE_DIR/'data/output'"
   ]
  },
  {
   "cell_type": "code",
   "execution_count": 153,
   "metadata": {},
   "outputs": [],
   "source": [
    "train_df = pd.read_csv(INPUT_DIR/'train.csv')\n",
    "test_df = pd.read_csv(INPUT_DIR/'test.csv')"
   ]
  },
  {
   "cell_type": "markdown",
   "metadata": {},
   "source": [
    "In the first submissions it turned out that the CV score on the training set is quite different from the score on the leaderboard. It is not clear why this is the case. In what follows we try to identify the differences between these two sets.\n",
    "\n",
    "1. Where does the test set come from?\n",
    "2. Are there clear \"structural\" differences between the two sets?\n",
    "3. Are there issues in the training set that are absent from the test set, or vice-versa?\n",
    "4. If any of the above issues is found, how do we fix it?\n",
    "\n",
    "The first thing to do is to look at the raw data, and this can only be done by painstakingly scrolling through the texts. The analyses below are what should come next. We present it first, just as an example."
   ]
  },
  {
   "cell_type": "markdown",
   "metadata": {},
   "source": [
    "## Where does the test set come from?\n",
    "\n",
    "We compare the first 10 ids from the training set with the first 10 ids from the test set"
   ]
  },
  {
   "cell_type": "code",
   "execution_count": 156,
   "metadata": {},
   "outputs": [
    {
     "data": {
      "text/html": [
       "<div>\n",
       "<style scoped>\n",
       "    .dataframe tbody tr th:only-of-type {\n",
       "        vertical-align: middle;\n",
       "    }\n",
       "\n",
       "    .dataframe tbody tr th {\n",
       "        vertical-align: top;\n",
       "    }\n",
       "\n",
       "    .dataframe thead th {\n",
       "        text-align: right;\n",
       "    }\n",
       "</style>\n",
       "<table border=\"1\" class=\"dataframe\">\n",
       "  <thead>\n",
       "    <tr style=\"text-align: right;\">\n",
       "      <th></th>\n",
       "      <th>train</th>\n",
       "      <th>test</th>\n",
       "    </tr>\n",
       "  </thead>\n",
       "  <tbody>\n",
       "    <tr>\n",
       "      <th>0</th>\n",
       "      <td>1</td>\n",
       "      <td>0</td>\n",
       "    </tr>\n",
       "    <tr>\n",
       "      <th>1</th>\n",
       "      <td>4</td>\n",
       "      <td>2</td>\n",
       "    </tr>\n",
       "    <tr>\n",
       "      <th>2</th>\n",
       "      <td>5</td>\n",
       "      <td>3</td>\n",
       "    </tr>\n",
       "    <tr>\n",
       "      <th>3</th>\n",
       "      <td>6</td>\n",
       "      <td>9</td>\n",
       "    </tr>\n",
       "    <tr>\n",
       "      <th>4</th>\n",
       "      <td>7</td>\n",
       "      <td>11</td>\n",
       "    </tr>\n",
       "    <tr>\n",
       "      <th>5</th>\n",
       "      <td>8</td>\n",
       "      <td>12</td>\n",
       "    </tr>\n",
       "    <tr>\n",
       "      <th>6</th>\n",
       "      <td>10</td>\n",
       "      <td>21</td>\n",
       "    </tr>\n",
       "    <tr>\n",
       "      <th>7</th>\n",
       "      <td>13</td>\n",
       "      <td>22</td>\n",
       "    </tr>\n",
       "    <tr>\n",
       "      <th>8</th>\n",
       "      <td>14</td>\n",
       "      <td>27</td>\n",
       "    </tr>\n",
       "    <tr>\n",
       "      <th>9</th>\n",
       "      <td>15</td>\n",
       "      <td>29</td>\n",
       "    </tr>\n",
       "  </tbody>\n",
       "</table>\n",
       "</div>"
      ],
      "text/plain": [
       "   train  test\n",
       "0      1     0\n",
       "1      4     2\n",
       "2      5     3\n",
       "3      6     9\n",
       "4      7    11\n",
       "5      8    12\n",
       "6     10    21\n",
       "7     13    22\n",
       "8     14    27\n",
       "9     15    29"
      ]
     },
     "execution_count": 156,
     "metadata": {},
     "output_type": "execute_result"
    }
   ],
   "source": [
    "pd.DataFrame({'train': train_df.id[:10], 'test': test_df.id[:10]})"
   ]
  },
  {
   "cell_type": "markdown",
   "metadata": {},
   "source": [
    "The IDs in the test set seem to have been randomly selected from the training set. A two-sample Kolmogorov-Smirnov test on the IDs is not significant."
   ]
  },
  {
   "cell_type": "code",
   "execution_count": 159,
   "metadata": {},
   "outputs": [
    {
     "data": {
      "text/plain": [
       "KstestResult(statistic=0.013360817760191237, pvalue=0.8031734343752832)"
      ]
     },
     "execution_count": 159,
     "metadata": {},
     "output_type": "execute_result"
    }
   ],
   "source": [
    "from scipy.stats import kstest\n",
    "\n",
    "kstest(train_df.id, test_df.id)"
   ]
  },
  {
   "cell_type": "markdown",
   "metadata": {},
   "source": [
    "## Distribution of the targets\n",
    "\n",
    "First, we check what is the distribution of the output target labels. Obviously we don't know the distribution in the test set, but if we observe strong class imbalance, this may be a red flag."
   ]
  },
  {
   "cell_type": "code",
   "execution_count": 74,
   "metadata": {},
   "outputs": [
    {
     "data": {
      "text/plain": [
       "0    0.57034\n",
       "1    0.42966\n",
       "Name: target, dtype: float64"
      ]
     },
     "execution_count": 74,
     "metadata": {},
     "output_type": "execute_result"
    }
   ],
   "source": [
    "train_df.target.value_counts(normalize=True)"
   ]
  },
  {
   "cell_type": "markdown",
   "metadata": {},
   "source": [
    "There is some modest imbalance, but nothing terrible.\n",
    "\n",
    "Next we check whether the entries are properly shuffled. If we see, for example, that all targets equal to 1 are in the first half of the dataset, then this would be an issue."
   ]
  },
  {
   "cell_type": "code",
   "execution_count": 75,
   "metadata": {},
   "outputs": [
    {
     "data": {
      "text/plain": [
       "[<matplotlib.lines.Line2D at 0x7f4359c60b80>]"
      ]
     },
     "execution_count": 75,
     "metadata": {},
     "output_type": "execute_result"
    },
    {
     "data": {
      "image/png": "[encoded data removed]",
      "text/plain": [
       "<Figure size 432x288 with 1 Axes>"
      ]
     },
     "metadata": {
      "needs_background": "light"
     },
     "output_type": "display_data"
    }
   ],
   "source": [
    "plt.plot(train_df.index, train_df.target, '.')"
   ]
  },
  {
   "cell_type": "markdown",
   "metadata": {},
   "source": [
    "The plot is crude, but it doesn't seem to show problems.\n",
    "\n",
    "Next we compute the length of the texts. If we see that shorter texts tend to be enriched in a class, the next step would be to inspect the length distribution in the test set."
   ]
  },
  {
   "cell_type": "code",
   "execution_count": 76,
   "metadata": {},
   "outputs": [
    {
     "name": "stdout",
     "output_type": "stream",
     "text": [
      "   id keyword location  \\\n",
      "0   1     NaN      NaN   \n",
      "1   4     NaN      NaN   \n",
      "2   5     NaN      NaN   \n",
      "3   6     NaN      NaN   \n",
      "4   7     NaN      NaN   \n",
      "\n",
      "                                                                                                                                    text  \\\n",
      "0                                                                  Our Deeds are the Reason of this #earthquake May ALLAH Forgive us all   \n",
      "1                                                                                                 Forest fire near La Ronge Sask. Canada   \n",
      "2  All residents asked to 'shelter in place' are being notified by officers. No other evacuation or shelter in place orders are expected   \n",
      "3                                                                      13,000 people receive #wildfires evacuation orders in California    \n",
      "4                                               Just got sent this photo from Ruby #Alaska as smoke from #wildfires pours into a school    \n",
      "\n",
      "   target  text_length  \n",
      "0       1           69  \n",
      "1       1           38  \n",
      "2       1          133  \n",
      "3       1           65  \n",
      "4       1           88  \n"
     ]
    },
    {
     "data": {
      "text/plain": [
       "<AxesSubplot:xlabel='text_length', ylabel='target'>"
      ]
     },
     "execution_count": 76,
     "metadata": {},
     "output_type": "execute_result"
    },
    {
     "data": {
      "image/png": "[encoded data removed]",
      "text/plain": [
       "<Figure size 432x288 with 1 Axes>"
      ]
     },
     "metadata": {
      "needs_background": "light"
     },
     "output_type": "display_data"
    }
   ],
   "source": [
    "train_df['text_length'] = train_df['text'].str.len()\n",
    "print(train_df.head())\n",
    "train_df.plot('text_length', 'target', kind='scatter')"
   ]
  },
  {
   "cell_type": "markdown",
   "metadata": {},
   "source": [
    "## Text inspection\n",
    "\n",
    "From the visual inspection of the texts it turns out that there is a large number of identical texts that differ only by an http link. These texts, however, often have contradictory labels. For example, a number of texts contain the string\n",
    "\n",
    "> U.S National Park Services Tonto National Forest: Stop the Annihilation of the Salt River Wild Horse"
   ]
  },
  {
   "cell_type": "code",
   "execution_count": 77,
   "metadata": {},
   "outputs": [],
   "source": [
    "s = 'U.S National Park Services Tonto National Forest: Stop the Annihilation of the Salt River Wild Horse'\n",
    "df = train_df[['text', 'target']]\n",
    "df = df[df.text.str.contains(s)]"
   ]
  },
  {
   "cell_type": "code",
   "execution_count": 78,
   "metadata": {},
   "outputs": [
    {
     "data": {
      "text/html": [
       "<div>\n",
       "<style scoped>\n",
       "    .dataframe tbody tr th:only-of-type {\n",
       "        vertical-align: middle;\n",
       "    }\n",
       "\n",
       "    .dataframe tbody tr th {\n",
       "        vertical-align: top;\n",
       "    }\n",
       "\n",
       "    .dataframe thead th {\n",
       "        text-align: right;\n",
       "    }\n",
       "</style>\n",
       "<table border=\"1\" class=\"dataframe\">\n",
       "  <thead>\n",
       "    <tr style=\"text-align: right;\">\n",
       "      <th></th>\n",
       "      <th>text</th>\n",
       "      <th>target</th>\n",
       "    </tr>\n",
       "  </thead>\n",
       "  <tbody>\n",
       "    <tr>\n",
       "      <th>246</th>\n",
       "      <td>U.S National Park Services Tonto National Forest: Stop the Annihilation of the Salt River Wild Horse... http://t.co/6LoJOoROuk via @Change</td>\n",
       "      <td>0</td>\n",
       "    </tr>\n",
       "    <tr>\n",
       "      <th>250</th>\n",
       "      <td>U.S National Park Services Tonto National Forest: Stop the Annihilation of the Salt River Wild Horse... https://t.co/m8MvDSPJp7 via @Change</td>\n",
       "      <td>0</td>\n",
       "    </tr>\n",
       "    <tr>\n",
       "      <th>251</th>\n",
       "      <td>U.S National Park Services Tonto National Forest: Stop the Annihilation of the Salt River Wild Horse... https://t.co/sW1sBua3mN via @Change</td>\n",
       "      <td>1</td>\n",
       "    </tr>\n",
       "    <tr>\n",
       "      <th>253</th>\n",
       "      <td>U.S National Park Services Tonto National Forest: Stop the Annihilation of the Salt River Wild Horse... http://t.co/KPQk0C4G0M via @Change</td>\n",
       "      <td>1</td>\n",
       "    </tr>\n",
       "    <tr>\n",
       "      <th>259</th>\n",
       "      <td>U.S National Park Services Tonto National Forest: Stop the Annihilation of the Salt River Wild Horse... https://t.co/MatIJwkzbh via @Change</td>\n",
       "      <td>0</td>\n",
       "    </tr>\n",
       "    <tr>\n",
       "      <th>266</th>\n",
       "      <td>U.S National Park Services Tonto National Forest: Stop the Annihilation of the Salt River Wild Horse... https://t.co/x2Wn7O2a3w via @Change</td>\n",
       "      <td>0</td>\n",
       "    </tr>\n",
       "    <tr>\n",
       "      <th>270</th>\n",
       "      <td>U.S National Park Services Tonto National Forest: Stop the Annihilation of the Salt River Wild Horse... https://t.co/0fekgyBY5F via @Change</td>\n",
       "      <td>0</td>\n",
       "    </tr>\n",
       "    <tr>\n",
       "      <th>271</th>\n",
       "      <td>U.S National Park Services Tonto National Forest: Stop the Annihilation of the Salt River Wild Horse... http://t.co/SB5R7ShcCJ via @Change</td>\n",
       "      <td>1</td>\n",
       "    </tr>\n",
       "  </tbody>\n",
       "</table>\n",
       "</div>"
      ],
      "text/plain": [
       "                                                                                                                                            text  \\\n",
       "246   U.S National Park Services Tonto National Forest: Stop the Annihilation of the Salt River Wild Horse... http://t.co/6LoJOoROuk via @Change   \n",
       "250  U.S National Park Services Tonto National Forest: Stop the Annihilation of the Salt River Wild Horse... https://t.co/m8MvDSPJp7 via @Change   \n",
       "251  U.S National Park Services Tonto National Forest: Stop the Annihilation of the Salt River Wild Horse... https://t.co/sW1sBua3mN via @Change   \n",
       "253   U.S National Park Services Tonto National Forest: Stop the Annihilation of the Salt River Wild Horse... http://t.co/KPQk0C4G0M via @Change   \n",
       "259  U.S National Park Services Tonto National Forest: Stop the Annihilation of the Salt River Wild Horse... https://t.co/MatIJwkzbh via @Change   \n",
       "266  U.S National Park Services Tonto National Forest: Stop the Annihilation of the Salt River Wild Horse... https://t.co/x2Wn7O2a3w via @Change   \n",
       "270  U.S National Park Services Tonto National Forest: Stop the Annihilation of the Salt River Wild Horse... https://t.co/0fekgyBY5F via @Change   \n",
       "271   U.S National Park Services Tonto National Forest: Stop the Annihilation of the Salt River Wild Horse... http://t.co/SB5R7ShcCJ via @Change   \n",
       "\n",
       "     target  \n",
       "246       0  \n",
       "250       0  \n",
       "251       1  \n",
       "253       1  \n",
       "259       0  \n",
       "266       0  \n",
       "270       0  \n",
       "271       1  "
      ]
     },
     "execution_count": 78,
     "metadata": {},
     "output_type": "execute_result"
    }
   ],
   "source": [
    "max_col_width = pd.options.display.max_colwidth\n",
    "pd.options.display.max_colwidth = 140\n",
    "df"
   ]
  },
  {
   "cell_type": "markdown",
   "metadata": {},
   "source": [
    "The texts above are the same, and they all point to the same web page, but the target is 5 times 0 and 3 times 1.\n",
    "We remove URLs and Twitter handles and take a majority vote over the entries, hoping that this will reduce the variability."
   ]
  },
  {
   "cell_type": "code",
   "execution_count": 79,
   "metadata": {},
   "outputs": [],
   "source": [
    "def process_txt(txt):\n",
    "    txt = re.sub('@[^ ]+', '', txt)\n",
    "    txt = re.sub('https?[^ ]+', '', txt)\n",
    "    txt = txt.replace('#', '')\n",
    "    txt = re.sub('\\s+', ' ', txt)\n",
    "    txt = re.sub('^ ', '', txt)\n",
    "    return txt.lower()"
   ]
  },
  {
   "cell_type": "markdown",
   "metadata": {},
   "source": [
    "We test the function above on texts containing handles and urls"
   ]
  },
  {
   "cell_type": "code",
   "execution_count": 80,
   "metadata": {},
   "outputs": [
    {
     "data": {
      "text/plain": [
       "['wholesale markets ablaze ',\n",
       " 'we always try to bring the heavy. metal rt ',\n",
       " 'africanbaze: breaking news:nigeria flag set ablaze in aba. ',\n",
       " 'on plus side look at the sky last night it was ablaze ',\n",
       " 'inec office in abia set ablaze - ',\n",
       " 'wholesale markets ablaze ',\n",
       " \"mufc they've built so much hype around new acquisitions but i doubt they will set the epl ablaze this season.\",\n",
       " 'soooo pumped for ablaze ???? ',\n",
       " \"noches el-bestia ' happy to see my teammates and training hard ?? goodnight gunners.?????? \",\n",
       " 'set our hearts ablaze and every city was a gift and every skyline was like a kiss upon the lips ']"
      ]
     },
     "execution_count": 80,
     "metadata": {},
     "output_type": "execute_result"
    }
   ],
   "source": [
    "train_texts = train_df.text.values\n",
    "contains_url = [txt for txt in train_texts if txt.find('http') != -1]\n",
    "contains_handle = [txt for txt in train_texts if txt.find('@') != -1]\n",
    "dirty_txt = contains_url[:5] + contains_handle[:5]\n",
    "\n",
    "clean_txt = [process_txt(txt) for txt in dirty_txt]\n",
    "clean_txt"
   ]
  },
  {
   "cell_type": "markdown",
   "metadata": {},
   "source": [
    "This function should be applied as part of a pipeline, together with the majority voting. We test the majority voting on the \"Salt River Wild Horse\" subset."
   ]
  },
  {
   "cell_type": "code",
   "execution_count": 81,
   "metadata": {},
   "outputs": [
    {
     "data": {
      "text/html": [
       "<div>\n",
       "<style scoped>\n",
       "    .dataframe tbody tr th:only-of-type {\n",
       "        vertical-align: middle;\n",
       "    }\n",
       "\n",
       "    .dataframe tbody tr th {\n",
       "        vertical-align: top;\n",
       "    }\n",
       "\n",
       "    .dataframe thead th {\n",
       "        text-align: right;\n",
       "    }\n",
       "</style>\n",
       "<table border=\"1\" class=\"dataframe\">\n",
       "  <thead>\n",
       "    <tr style=\"text-align: right;\">\n",
       "      <th></th>\n",
       "      <th>text</th>\n",
       "      <th>target</th>\n",
       "    </tr>\n",
       "  </thead>\n",
       "  <tbody>\n",
       "    <tr>\n",
       "      <th>246</th>\n",
       "      <td>U.S National Park Services Tonto National Forest: Stop the Annihilation of the Salt River Wild Horse... http://t.co/6LoJOoROuk via @Change</td>\n",
       "      <td>0</td>\n",
       "    </tr>\n",
       "    <tr>\n",
       "      <th>250</th>\n",
       "      <td>U.S National Park Services Tonto National Forest: Stop the Annihilation of the Salt River Wild Horse... https://t.co/m8MvDSPJp7 via @Change</td>\n",
       "      <td>0</td>\n",
       "    </tr>\n",
       "    <tr>\n",
       "      <th>251</th>\n",
       "      <td>U.S National Park Services Tonto National Forest: Stop the Annihilation of the Salt River Wild Horse... https://t.co/sW1sBua3mN via @Change</td>\n",
       "      <td>1</td>\n",
       "    </tr>\n",
       "    <tr>\n",
       "      <th>253</th>\n",
       "      <td>U.S National Park Services Tonto National Forest: Stop the Annihilation of the Salt River Wild Horse... http://t.co/KPQk0C4G0M via @Change</td>\n",
       "      <td>1</td>\n",
       "    </tr>\n",
       "    <tr>\n",
       "      <th>259</th>\n",
       "      <td>U.S National Park Services Tonto National Forest: Stop the Annihilation of the Salt River Wild Horse... https://t.co/MatIJwkzbh via @Change</td>\n",
       "      <td>0</td>\n",
       "    </tr>\n",
       "    <tr>\n",
       "      <th>266</th>\n",
       "      <td>U.S National Park Services Tonto National Forest: Stop the Annihilation of the Salt River Wild Horse... https://t.co/x2Wn7O2a3w via @Change</td>\n",
       "      <td>0</td>\n",
       "    </tr>\n",
       "    <tr>\n",
       "      <th>270</th>\n",
       "      <td>U.S National Park Services Tonto National Forest: Stop the Annihilation of the Salt River Wild Horse... https://t.co/0fekgyBY5F via @Change</td>\n",
       "      <td>0</td>\n",
       "    </tr>\n",
       "    <tr>\n",
       "      <th>271</th>\n",
       "      <td>U.S National Park Services Tonto National Forest: Stop the Annihilation of the Salt River Wild Horse... http://t.co/SB5R7ShcCJ via @Change</td>\n",
       "      <td>1</td>\n",
       "    </tr>\n",
       "  </tbody>\n",
       "</table>\n",
       "</div>"
      ],
      "text/plain": [
       "                                                                                                                                            text  \\\n",
       "246   U.S National Park Services Tonto National Forest: Stop the Annihilation of the Salt River Wild Horse... http://t.co/6LoJOoROuk via @Change   \n",
       "250  U.S National Park Services Tonto National Forest: Stop the Annihilation of the Salt River Wild Horse... https://t.co/m8MvDSPJp7 via @Change   \n",
       "251  U.S National Park Services Tonto National Forest: Stop the Annihilation of the Salt River Wild Horse... https://t.co/sW1sBua3mN via @Change   \n",
       "253   U.S National Park Services Tonto National Forest: Stop the Annihilation of the Salt River Wild Horse... http://t.co/KPQk0C4G0M via @Change   \n",
       "259  U.S National Park Services Tonto National Forest: Stop the Annihilation of the Salt River Wild Horse... https://t.co/MatIJwkzbh via @Change   \n",
       "266  U.S National Park Services Tonto National Forest: Stop the Annihilation of the Salt River Wild Horse... https://t.co/x2Wn7O2a3w via @Change   \n",
       "270  U.S National Park Services Tonto National Forest: Stop the Annihilation of the Salt River Wild Horse... https://t.co/0fekgyBY5F via @Change   \n",
       "271   U.S National Park Services Tonto National Forest: Stop the Annihilation of the Salt River Wild Horse... http://t.co/SB5R7ShcCJ via @Change   \n",
       "\n",
       "     target  \n",
       "246       0  \n",
       "250       0  \n",
       "251       1  \n",
       "253       1  \n",
       "259       0  \n",
       "266       0  \n",
       "270       0  \n",
       "271       1  "
      ]
     },
     "execution_count": 81,
     "metadata": {},
     "output_type": "execute_result"
    }
   ],
   "source": [
    "df"
   ]
  },
  {
   "cell_type": "code",
   "execution_count": 83,
   "metadata": {},
   "outputs": [],
   "source": [
    "df['text'] = df['text'].apply(process_txt)\n",
    "df"
   ]
  },
  {
   "cell_type": "code",
   "execution_count": 129,
   "metadata": {},
   "outputs": [],
   "source": [
    "tmp = df.groupby(['text', 'target']).size().sort_values(ascending=False).reset_index()"
   ]
  },
  {
   "cell_type": "code",
   "execution_count": 130,
   "metadata": {},
   "outputs": [
    {
     "data": {
      "text/html": [
       "<div>\n",
       "<style scoped>\n",
       "    .dataframe tbody tr th:only-of-type {\n",
       "        vertical-align: middle;\n",
       "    }\n",
       "\n",
       "    .dataframe tbody tr th {\n",
       "        vertical-align: top;\n",
       "    }\n",
       "\n",
       "    .dataframe thead th {\n",
       "        text-align: right;\n",
       "    }\n",
       "</style>\n",
       "<table border=\"1\" class=\"dataframe\">\n",
       "  <thead>\n",
       "    <tr style=\"text-align: right;\">\n",
       "      <th></th>\n",
       "      <th></th>\n",
       "      <th>0</th>\n",
       "    </tr>\n",
       "    <tr>\n",
       "      <th>text</th>\n",
       "      <th>target</th>\n",
       "      <th></th>\n",
       "    </tr>\n",
       "  </thead>\n",
       "  <tbody>\n",
       "    <tr>\n",
       "      <th rowspan=\"2\" valign=\"top\">u.s national park services tonto national forest: stop the annihilation of the salt river wild horse... via</th>\n",
       "      <th>0</th>\n",
       "      <td>5</td>\n",
       "    </tr>\n",
       "    <tr>\n",
       "      <th>1</th>\n",
       "      <td>3</td>\n",
       "    </tr>\n",
       "  </tbody>\n",
       "</table>\n",
       "</div>"
      ],
      "text/plain": [
       "                                                                                                                     0\n",
       "text                                                                                                         target   \n",
       "u.s national park services tonto national forest: stop the annihilation of the salt river wild horse... via  0       5\n",
       "                                                                                                             1       3"
      ]
     },
     "execution_count": 130,
     "metadata": {},
     "output_type": "execute_result"
    }
   ],
   "source": [
    "tmp.groupby(['text', 'target']).nth(0)"
   ]
  },
  {
   "cell_type": "code",
   "execution_count": 147,
   "metadata": {},
   "outputs": [
    {
     "data": {
      "text/html": [
       "<div>\n",
       "<style scoped>\n",
       "    .dataframe tbody tr th:only-of-type {\n",
       "        vertical-align: middle;\n",
       "    }\n",
       "\n",
       "    .dataframe tbody tr th {\n",
       "        vertical-align: top;\n",
       "    }\n",
       "\n",
       "    .dataframe thead th {\n",
       "        text-align: right;\n",
       "    }\n",
       "</style>\n",
       "<table border=\"1\" class=\"dataframe\">\n",
       "  <thead>\n",
       "    <tr style=\"text-align: right;\">\n",
       "      <th></th>\n",
       "      <th>target</th>\n",
       "      <th>0</th>\n",
       "    </tr>\n",
       "    <tr>\n",
       "      <th>clean_text</th>\n",
       "      <th></th>\n",
       "      <th></th>\n",
       "    </tr>\n",
       "  </thead>\n",
       "  <tbody>\n",
       "    <tr>\n",
       "      <th>watch this airport get swallowed up by a sandstorm in under a minute</th>\n",
       "      <td>1</td>\n",
       "      <td>24</td>\n",
       "    </tr>\n",
       "    <tr>\n",
       "      <th>wreckage 'conclusively confirmed' as from mh370: malaysia pm: investigators and the families of those who were...</th>\n",
       "      <td>1</td>\n",
       "      <td>20</td>\n",
       "    </tr>\n",
       "    <tr>\n",
       "      <th>families to sue over legionnaires: more than 40 families affected by the fatal outbreak of legionnaires' disea...</th>\n",
       "      <td>1</td>\n",
       "      <td>19</td>\n",
       "    </tr>\n",
       "    <tr>\n",
       "      <th>christian attacked by muslims at the temple mount after waving israeli flag via pamela geller - ...</th>\n",
       "      <td>1</td>\n",
       "      <td>15</td>\n",
       "    </tr>\n",
       "    <tr>\n",
       "      <th>obama declares disaster for typhoon-devastated saipan: obama signs disaster declaration for northern marians a...</th>\n",
       "      <td>1</td>\n",
       "      <td>13</td>\n",
       "    </tr>\n",
       "    <tr>\n",
       "      <th>...</th>\n",
       "      <td>...</td>\n",
       "      <td>...</td>\n",
       "    </tr>\n",
       "    <tr>\n",
       "      <th>panicking because maybe my bff left me at china bar or maybe tindering on the toilet for 20mins</th>\n",
       "      <td>0</td>\n",
       "      <td>1</td>\n",
       "    </tr>\n",
       "    <tr>\n",
       "      <th>panoramic resources cuts jobs after seismic event</th>\n",
       "      <td>1</td>\n",
       "      <td>1</td>\n",
       "    </tr>\n",
       "    <tr>\n",
       "      <th>papi absolutely crushed that ball</th>\n",
       "      <td>0</td>\n",
       "      <td>1</td>\n",
       "    </tr>\n",
       "    <tr>\n",
       "      <th>papiichampoo what i enjoy most about the obama era is the civility: prez says gop supports iranian 'death to ...</th>\n",
       "      <td>0</td>\n",
       "      <td>1</td>\n",
       "    </tr>\n",
       "    <tr>\n",
       "      <th>! residents return to destroyed homes as washington wildfire burns on</th>\n",
       "      <td>1</td>\n",
       "      <td>1</td>\n",
       "    </tr>\n",
       "  </tbody>\n",
       "</table>\n",
       "<p>6914 rows × 2 columns</p>\n",
       "</div>"
      ],
      "text/plain": [
       "                                                                                                                    target  \\\n",
       "clean_text                                                                                                                   \n",
       "watch this airport get swallowed up by a sandstorm in under a minute                                                     1   \n",
       "wreckage 'conclusively confirmed' as from mh370: malaysia pm: investigators and the families of those who were...        1   \n",
       "families to sue over legionnaires: more than 40 families affected by the fatal outbreak of legionnaires' disea...        1   \n",
       "christian attacked by muslims at the temple mount after waving israeli flag via pamela geller - ...                      1   \n",
       "obama declares disaster for typhoon-devastated saipan: obama signs disaster declaration for northern marians a...        1   \n",
       "...                                                                                                                    ...   \n",
       "panicking because maybe my bff left me at china bar or maybe tindering on the toilet for 20mins                          0   \n",
       "panoramic resources cuts jobs after seismic event                                                                        1   \n",
       "papi absolutely crushed that ball                                                                                        0   \n",
       "papiichampoo what i enjoy most about the obama era is the civility: prez says gop supports iranian 'death to ...         0   \n",
       "! residents return to destroyed homes as washington wildfire burns on                                                    1   \n",
       "\n",
       "                                                                                                                     0  \n",
       "clean_text                                                                                                              \n",
       "watch this airport get swallowed up by a sandstorm in under a minute                                                24  \n",
       "wreckage 'conclusively confirmed' as from mh370: malaysia pm: investigators and the families of those who were...   20  \n",
       "families to sue over legionnaires: more than 40 families affected by the fatal outbreak of legionnaires' disea...   19  \n",
       "christian attacked by muslims at the temple mount after waving israeli flag via pamela geller - ...                 15  \n",
       "obama declares disaster for typhoon-devastated saipan: obama signs disaster declaration for northern marians a...   13  \n",
       "...                                                                                                                 ..  \n",
       "panicking because maybe my bff left me at china bar or maybe tindering on the toilet for 20mins                      1  \n",
       "panoramic resources cuts jobs after seismic event                                                                    1  \n",
       "papi absolutely crushed that ball                                                                                    1  \n",
       "papiichampoo what i enjoy most about the obama era is the civility: prez says gop supports iranian 'death to ...     1  \n",
       "! residents return to destroyed homes as washington wildfire burns on                                                1  \n",
       "\n",
       "[6914 rows x 2 columns]"
      ]
     },
     "execution_count": 147,
     "metadata": {},
     "output_type": "execute_result"
    }
   ],
   "source": [
    "train_df['clean_text'] = train_df['text'].apply(process_txt)\n",
    "clean_train_df = train_df.groupby(['clean_text', 'target']).size().sort_values(ascending=False).reset_index()\n",
    "clean_train_df = clean_train_df.groupby(['clean_text'], sort=False).nth(0)\n",
    "clean_train_df"
   ]
  },
  {
   "cell_type": "markdown",
   "metadata": {},
   "source": [
    "We clean up the text in the test set as well."
   ]
  },
  {
   "cell_type": "code",
   "execution_count": 148,
   "metadata": {},
   "outputs": [],
   "source": [
    "test_df['clean_text'] = test_df['text'].apply(process_txt)"
   ]
  },
  {
   "cell_type": "code",
   "execution_count": 150,
   "metadata": {},
   "outputs": [],
   "source": [
    "clean_train_df.to_csv(INPUT_DIR/'clean_train_df.csv')\n",
    "test_df.to_csv(INPUT_DIR/'clean_test_df.csv')"
   ]
  },
  {
   "cell_type": "markdown",
   "metadata": {},
   "source": [
    "## Keywords\n",
    "\n",
    "Tweets are associated with keywords one of which is a blank string. In the training set, they are present in similar numbers."
   ]
  },
  {
   "cell_type": "code",
   "execution_count": 164,
   "metadata": {},
   "outputs": [
    {
     "data": {
      "text/plain": [
       "<AxesSubplot:>"
      ]
     },
     "execution_count": 164,
     "metadata": {},
     "output_type": "execute_result"
    },
    {
     "data": {
      "image/png": "[encoded data removed]",
      "text/plain": [
       "<Figure size 1008x504 with 1 Axes>"
      ]
     },
     "metadata": {
      "needs_background": "light"
     },
     "output_type": "display_data"
    }
   ],
   "source": [
    "train_df.keyword.value_counts().plot(kind='bar', figsize=(14, 7))"
   ]
  },
  {
   "cell_type": "markdown",
   "metadata": {},
   "source": [
    "Most keywords appear between 30 and 40 times. There is a small number of keywords that appear 10 times or less.\n",
    "It is highly probably that tweets in the test set appearing with the same keyword be quite similar to those in the training set."
   ]
  },
  {
   "cell_type": "code",
   "execution_count": 11,
   "metadata": {},
   "outputs": [
    {
     "name": "stdout",
     "output_type": "stream",
     "text": [
      "NaN                      0.007968\n",
      "deluged                  0.007049\n",
      "rubble                   0.006742\n",
      "demolished               0.006742\n",
      "sirens                   0.006436\n",
      "                           ...   \n",
      "fatalities               0.001532\n",
      "radiation%20emergency    0.001532\n",
      "forest%20fire            0.001532\n",
      "inundation               0.001226\n",
      "epicentre                0.000306\n",
      "Name: keyword, Length: 222, dtype: float64\n"
     ]
    }
   ],
   "source": [
    "print(test_df.keyword.value_counts(normalize=True, dropna=False))"
   ]
  },
  {
   "cell_type": "markdown",
   "metadata": {},
   "source": [
    "## Location"
   ]
  },
  {
   "cell_type": "code",
   "execution_count": 7,
   "metadata": {},
   "outputs": [
    {
     "name": "stdout",
     "output_type": "stream",
     "text": [
      "NaN                 0.332720\n",
      "USA                 0.013661\n",
      "New York            0.009326\n",
      "United States       0.006568\n",
      "London              0.005911\n",
      "                      ...   \n",
      "Flushing, Queens    0.000131\n",
      "MIchigan            0.000131\n",
      "CHICAGO             0.000131\n",
      "Windsor,Ontario     0.000131\n",
      "Fukuoka, Japan      0.000131\n",
      "Name: location, Length: 3342, dtype: float64\n"
     ]
    }
   ],
   "source": [
    "print(train_df.location.value_counts(normalize=True, dropna=False))"
   ]
  },
  {
   "cell_type": "code",
   "execution_count": 8,
   "metadata": {},
   "outputs": [
    {
     "name": "stdout",
     "output_type": "stream",
     "text": [
      "NaN                        0.338645\n",
      "New York                   0.011646\n",
      "USA                        0.011339\n",
      "Worldwide                  0.004903\n",
      "United States              0.004597\n",
      "                             ...   \n",
      "Piscataway, NJ             0.000306\n",
      "Toronto  #6ixSideMafia     0.000306\n",
      "Johnstown, NY              0.000306\n",
      "kyiv. ukraine              0.000306\n",
      "Saint Andrews, Scotland    0.000306\n",
      "Name: location, Length: 1603, dtype: float64\n"
     ]
    }
   ],
   "source": [
    "print(test_df.location.value_counts(normalize=True, dropna=False))"
   ]
  }
 ],
 "metadata": {
  "kernelspec": {
   "display_name": "Python 3",
   "language": "python",
   "name": "python3"
  },
  "language_info": {
   "codemirror_mode": {
    "name": "ipython",
    "version": 3
   },
   "file_extension": ".py",
   "mimetype": "text/x-python",
   "name": "python",
   "nbconvert_exporter": "python",
   "pygments_lexer": "ipython3",
   "version": "3.8.5"
  }
 },
 "nbformat": 4,
 "nbformat_minor": 2
}
