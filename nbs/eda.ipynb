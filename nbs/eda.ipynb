{
 "cells": [
  {
   "cell_type": "markdown",
   "metadata": {},
   "source": [
    "# Basic Dataset Exploration"
   ]
  },
  {
   "cell_type": "code",
   "execution_count": 1,
   "metadata": {},
   "outputs": [],
   "source": [
    "import re\n",
    "from pathlib import Path\n",
    "import numpy as np\n",
    "import pandas as pd\n",
    "import matplotlib.pyplot as plt\n",
    "\n",
    "%matplotlib inline"
   ]
  },
  {
   "cell_type": "code",
   "execution_count": 2,
   "metadata": {},
   "outputs": [],
   "source": [
    "BASE_DIR = Path('/home/giovenko/Projects/real_or_not')\n",
    "INPUT_DIR = BASE_DIR/'data/input'\n",
    "OUTPUT_DIR = BASE_DIR/'data/output'"
   ]
  },
  {
   "cell_type": "code",
   "execution_count": 3,
   "metadata": {},
   "outputs": [],
   "source": [
    "train_df = pd.read_csv(INPUT_DIR/'train.csv')\n",
    "test_df = pd.read_csv(INPUT_DIR/'test.csv')"
   ]
  },
  {
   "cell_type": "markdown",
   "metadata": {},
   "source": [
    "In the first submissions it turned out that the CV score on the training set is quite different from the score on the leaderboard. It is not clear why this is the case. In what follows we try to identify the differences between these two sets.\n",
    "\n",
    "1. Where does the test set come from?\n",
    "2. Are there clear \"structural\" differences between the two sets?\n",
    "3. Are there issues in the training set that are absent from the test set, or vice-versa?\n",
    "4. If any of the above issues is found, how do we fix it?\n",
    "\n",
    "The first thing to do is to look at the raw data, and this can only be done by painstakingly scrolling through the texts. The analyses below are what should come next. We present it first, just as an example."
   ]
  },
  {
   "cell_type": "markdown",
   "metadata": {},
   "source": [
    "## Where does the test set come from?\n",
    "\n",
    "We compare the first 10 ids from the training set with the first 10 ids from the test set"
   ]
  },
  {
   "cell_type": "code",
   "execution_count": 4,
   "metadata": {},
   "outputs": [
    {
     "data": {
      "text/html": [
       "<div>\n",
       "<style scoped>\n",
       "    .dataframe tbody tr th:only-of-type {\n",
       "        vertical-align: middle;\n",
       "    }\n",
       "\n",
       "    .dataframe tbody tr th {\n",
       "        vertical-align: top;\n",
       "    }\n",
       "\n",
       "    .dataframe thead th {\n",
       "        text-align: right;\n",
       "    }\n",
       "</style>\n",
       "<table border=\"1\" class=\"dataframe\">\n",
       "  <thead>\n",
       "    <tr style=\"text-align: right;\">\n",
       "      <th></th>\n",
       "      <th>train</th>\n",
       "      <th>test</th>\n",
       "    </tr>\n",
       "  </thead>\n",
       "  <tbody>\n",
       "    <tr>\n",
       "      <th>0</th>\n",
       "      <td>1</td>\n",
       "      <td>0</td>\n",
       "    </tr>\n",
       "    <tr>\n",
       "      <th>1</th>\n",
       "      <td>4</td>\n",
       "      <td>2</td>\n",
       "    </tr>\n",
       "    <tr>\n",
       "      <th>2</th>\n",
       "      <td>5</td>\n",
       "      <td>3</td>\n",
       "    </tr>\n",
       "    <tr>\n",
       "      <th>3</th>\n",
       "      <td>6</td>\n",
       "      <td>9</td>\n",
       "    </tr>\n",
       "    <tr>\n",
       "      <th>4</th>\n",
       "      <td>7</td>\n",
       "      <td>11</td>\n",
       "    </tr>\n",
       "    <tr>\n",
       "      <th>5</th>\n",
       "      <td>8</td>\n",
       "      <td>12</td>\n",
       "    </tr>\n",
       "    <tr>\n",
       "      <th>6</th>\n",
       "      <td>10</td>\n",
       "      <td>21</td>\n",
       "    </tr>\n",
       "    <tr>\n",
       "      <th>7</th>\n",
       "      <td>13</td>\n",
       "      <td>22</td>\n",
       "    </tr>\n",
       "    <tr>\n",
       "      <th>8</th>\n",
       "      <td>14</td>\n",
       "      <td>27</td>\n",
       "    </tr>\n",
       "    <tr>\n",
       "      <th>9</th>\n",
       "      <td>15</td>\n",
       "      <td>29</td>\n",
       "    </tr>\n",
       "  </tbody>\n",
       "</table>\n",
       "</div>"
      ],
      "text/plain": [
       "   train  test\n",
       "0      1     0\n",
       "1      4     2\n",
       "2      5     3\n",
       "3      6     9\n",
       "4      7    11\n",
       "5      8    12\n",
       "6     10    21\n",
       "7     13    22\n",
       "8     14    27\n",
       "9     15    29"
      ]
     },
     "execution_count": 4,
     "metadata": {},
     "output_type": "execute_result"
    }
   ],
   "source": [
    "pd.DataFrame({'train': train_df.id[:10], 'test': test_df.id[:10]})"
   ]
  },
  {
   "cell_type": "markdown",
   "metadata": {},
   "source": [
    "The IDs in the test set seem to have been randomly selected from the training set. A two-sample Kolmogorov-Smirnov test on the IDs is not significant."
   ]
  },
  {
   "cell_type": "code",
   "execution_count": 5,
   "metadata": {},
   "outputs": [
    {
     "data": {
      "text/plain": [
       "KstestResult(statistic=0.013360817760191237, pvalue=0.8031734343752832)"
      ]
     },
     "execution_count": 5,
     "metadata": {},
     "output_type": "execute_result"
    }
   ],
   "source": [
    "from scipy.stats import kstest\n",
    "\n",
    "kstest(train_df.id, test_df.id)"
   ]
  },
  {
   "cell_type": "markdown",
   "metadata": {},
   "source": [
    "Note that the tweets in the training set are **not** in random order. They are grouped by **keyword**. There are similar numbers of tweets for each class in the training set, as shown by the plot below.\n",
    "\n",
    "Most keywords appear between 30 and 40 times. There is a small number of keywords that appear 10 times or less.\n",
    "It is highly probably that tweets in the test set appearing with the same keyword be quite similar to those in the training set."
   ]
  },
  {
   "cell_type": "code",
   "execution_count": 6,
   "metadata": {},
   "outputs": [
    {
     "data": {
      "text/plain": [
       "<AxesSubplot:>"
      ]
     },
     "execution_count": 6,
     "metadata": {},
     "output_type": "execute_result"
    },
    {
     "data": {
      "image/png": "[encoded data removed]",
      "text/plain": [
       "<Figure size 1008x504 with 1 Axes>"
      ]
     },
     "metadata": {
      "needs_background": "light"
     },
     "output_type": "display_data"
    }
   ],
   "source": [
    "train_df.keyword.value_counts().plot(kind='bar', figsize=(14, 7))"
   ]
  },
  {
   "cell_type": "code",
   "execution_count": 7,
   "metadata": {},
   "outputs": [
    {
     "name": "stdout",
     "output_type": "stream",
     "text": [
      "222\n"
     ]
    },
    {
     "data": {
      "text/plain": [
       "array([nan, 'ablaze', 'accident', 'aftershock', 'airplane%20accident',\n",
       "       'ambulance', 'annihilated', 'annihilation', 'apocalypse',\n",
       "       'armageddon', 'army', 'arson', 'arsonist', 'attack', 'attacked',\n",
       "       'avalanche', 'battle', 'bioterror', 'bioterrorism', 'blaze',\n",
       "       'blazing', 'bleeding', 'blew%20up', 'blight', 'blizzard', 'blood',\n",
       "       'bloody', 'blown%20up', 'body%20bag', 'body%20bagging',\n",
       "       'body%20bags', 'bomb', 'bombed', 'bombing', 'bridge%20collapse',\n",
       "       'buildings%20burning', 'buildings%20on%20fire', 'burned',\n",
       "       'burning', 'burning%20buildings', 'bush%20fires', 'casualties',\n",
       "       'casualty', 'catastrophe', 'catastrophic', 'chemical%20emergency',\n",
       "       'cliff%20fall', 'collapse', 'collapsed', 'collide', 'collided',\n",
       "       'collision', 'crash', 'crashed', 'crush', 'crushed', 'curfew',\n",
       "       'cyclone', 'damage', 'danger', 'dead', 'death', 'deaths', 'debris',\n",
       "       'deluge', 'deluged', 'demolish', 'demolished', 'demolition',\n",
       "       'derail', 'derailed', 'derailment', 'desolate', 'desolation',\n",
       "       'destroy', 'destroyed', 'destruction', 'detonate', 'detonation',\n",
       "       'devastated', 'devastation', 'disaster', 'displaced', 'drought',\n",
       "       'drown', 'drowned', 'drowning', 'dust%20storm', 'earthquake',\n",
       "       'electrocute', 'electrocuted', 'emergency', 'emergency%20plan',\n",
       "       'emergency%20services', 'engulfed', 'epicentre', 'evacuate',\n",
       "       'evacuated', 'evacuation', 'explode', 'exploded', 'explosion',\n",
       "       'eyewitness', 'famine', 'fatal', 'fatalities', 'fatality', 'fear',\n",
       "       'fire', 'fire%20truck', 'first%20responders', 'flames',\n",
       "       'flattened', 'flood', 'flooding', 'floods', 'forest%20fire',\n",
       "       'forest%20fires', 'hail', 'hailstorm', 'harm', 'hazard',\n",
       "       'hazardous', 'heat%20wave', 'hellfire', 'hijack', 'hijacker',\n",
       "       'hijacking', 'hostage', 'hostages', 'hurricane', 'injured',\n",
       "       'injuries', 'injury', 'inundated', 'inundation', 'landslide',\n",
       "       'lava', 'lightning', 'loud%20bang', 'mass%20murder',\n",
       "       'mass%20murderer', 'massacre', 'mayhem', 'meltdown', 'military',\n",
       "       'mudslide', 'natural%20disaster', 'nuclear%20disaster',\n",
       "       'nuclear%20reactor', 'obliterate', 'obliterated', 'obliteration',\n",
       "       'oil%20spill', 'outbreak', 'pandemonium', 'panic', 'panicking',\n",
       "       'police', 'quarantine', 'quarantined', 'radiation%20emergency',\n",
       "       'rainstorm', 'razed', 'refugees', 'rescue', 'rescued', 'rescuers',\n",
       "       'riot', 'rioting', 'rubble', 'ruin', 'sandstorm', 'screamed',\n",
       "       'screaming', 'screams', 'seismic', 'sinkhole', 'sinking', 'siren',\n",
       "       'sirens', 'smoke', 'snowstorm', 'storm', 'stretcher',\n",
       "       'structural%20failure', 'suicide%20bomb', 'suicide%20bomber',\n",
       "       'suicide%20bombing', 'sunk', 'survive', 'survived', 'survivors',\n",
       "       'terrorism', 'terrorist', 'threat', 'thunder', 'thunderstorm',\n",
       "       'tornado', 'tragedy', 'trapped', 'trauma', 'traumatised',\n",
       "       'trouble', 'tsunami', 'twister', 'typhoon', 'upheaval',\n",
       "       'violent%20storm', 'volcano', 'war%20zone', 'weapon', 'weapons',\n",
       "       'whirlwind', 'wild%20fires', 'wildfire', 'windstorm', 'wounded',\n",
       "       'wounds', 'wreck', 'wreckage', 'wrecked'], dtype=object)"
      ]
     },
     "execution_count": 7,
     "metadata": {},
     "output_type": "execute_result"
    }
   ],
   "source": [
    "print(len(train_df.keyword.unique()))\n",
    "train_df.keyword.unique()"
   ]
  },
  {
   "cell_type": "markdown",
   "metadata": {},
   "source": [
    "All the keywords in the training set appear in the test set."
   ]
  },
  {
   "cell_type": "code",
   "execution_count": 8,
   "metadata": {},
   "outputs": [
    {
     "name": "stdout",
     "output_type": "stream",
     "text": [
      "222\n"
     ]
    },
    {
     "data": {
      "text/plain": [
       "True"
      ]
     },
     "execution_count": 8,
     "metadata": {},
     "output_type": "execute_result"
    }
   ],
   "source": [
    "print(len(test_df.keyword.unique()))\n",
    "test_df.keyword.isin(train_df.keyword.unique()).all()"
   ]
  },
  {
   "cell_type": "markdown",
   "metadata": {},
   "source": [
    "The proportion of each keyword is similar in the two sets, with the exception of a subset of keywords that are anti-correlated."
   ]
  },
  {
   "cell_type": "code",
   "execution_count": 9,
   "metadata": {},
   "outputs": [
    {
     "data": {
      "text/plain": [
       "[<matplotlib.lines.Line2D at 0x7f3675046cd0>]"
      ]
     },
     "execution_count": 9,
     "metadata": {},
     "output_type": "execute_result"
    },
    {
     "data": {
      "image/png": "[encoded data removed]",
      "text/plain": [
       "<Figure size 432x288 with 1 Axes>"
      ]
     },
     "metadata": {
      "needs_background": "light"
     },
     "output_type": "display_data"
    }
   ],
   "source": [
    "x = train_df.keyword.value_counts(normalize=True, dropna=False).sort_index()\n",
    "y = test_df.keyword.value_counts(normalize=True, dropna=False).sort_index()\n",
    "\n",
    "plt.plot(x, y, 'o')"
   ]
  },
  {
   "cell_type": "code",
   "execution_count": 10,
   "metadata": {},
   "outputs": [],
   "source": [
    "del x, y"
   ]
  },
  {
   "cell_type": "markdown",
   "metadata": {},
   "source": [
    "## Proportion of class labels per keyword"
   ]
  },
  {
   "cell_type": "code",
   "execution_count": 11,
   "metadata": {},
   "outputs": [
    {
     "name": "stderr",
     "output_type": "stream",
     "text": [
      "/home/giovenko/miniconda3/envs/ml/lib/python3.8/site-packages/pandas/plotting/_matplotlib/core.py:1235: UserWarning: FixedFormatter should only be used together with FixedLocator\n",
      "  ax.set_xticklabels(xticklabels)\n"
     ]
    },
    {
     "data": {
      "text/plain": [
       "<AxesSubplot:xlabel='keyword'>"
      ]
     },
     "execution_count": 11,
     "metadata": {},
     "output_type": "execute_result"
    },
    {
     "data": {
      "image/png": "[encoded data removed]",
      "text/plain": [
       "<Figure size 720x504 with 1 Axes>"
      ]
     },
     "metadata": {
      "needs_background": "light"
     },
     "output_type": "display_data"
    }
   ],
   "source": [
    "train_df.groupby('keyword').target.value_counts(normalize=True).groupby('keyword').nth(0).sort_values().plot(figsize=(10, 7))"
   ]
  },
  {
   "cell_type": "markdown",
   "metadata": {},
   "source": [
    "## Distribution of the targets\n",
    "\n",
    "First, we check what is the distribution of the output target labels. Obviously we don't know the distribution in the test set, but if we observe strong class imbalance, this may be a red flag."
   ]
  },
  {
   "cell_type": "code",
   "execution_count": 12,
   "metadata": {},
   "outputs": [
    {
     "data": {
      "text/plain": [
       "0    0.57034\n",
       "1    0.42966\n",
       "Name: target, dtype: float64"
      ]
     },
     "execution_count": 12,
     "metadata": {},
     "output_type": "execute_result"
    }
   ],
   "source": [
    "train_df.target.value_counts(normalize=True)"
   ]
  },
  {
   "cell_type": "markdown",
   "metadata": {},
   "source": [
    "There is some modest imbalance, but nothing terrible.\n",
    "\n",
    "Next we check whether the entries are properly shuffled. If we see, for example, that all targets equal to 1 are in the first half of the dataset, then this would be an issue."
   ]
  },
  {
   "cell_type": "code",
   "execution_count": 13,
   "metadata": {},
   "outputs": [
    {
     "data": {
      "text/plain": [
       "[<matplotlib.lines.Line2D at 0x7f3674f38340>]"
      ]
     },
     "execution_count": 13,
     "metadata": {},
     "output_type": "execute_result"
    },
    {
     "data": {
      "image/png": "[encoded data removed]",
      "text/plain": [
       "<Figure size 432x288 with 1 Axes>"
      ]
     },
     "metadata": {
      "needs_background": "light"
     },
     "output_type": "display_data"
    }
   ],
   "source": [
    "plt.plot(train_df.index, train_df.target, '.')"
   ]
  },
  {
   "cell_type": "markdown",
   "metadata": {},
   "source": [
    "The plot is crude, but it doesn't seem to show problems.\n",
    "\n",
    "Next we compute the length of the texts. If we see that shorter texts tend to be enriched in a class, the next step would be to inspect the length distribution in the test set."
   ]
  },
  {
   "cell_type": "code",
   "execution_count": 14,
   "metadata": {},
   "outputs": [
    {
     "name": "stdout",
     "output_type": "stream",
     "text": [
      "   id keyword location                                               text  \\\n",
      "0   1     NaN      NaN  Our Deeds are the Reason of this #earthquake M...   \n",
      "1   4     NaN      NaN             Forest fire near La Ronge Sask. Canada   \n",
      "2   5     NaN      NaN  All residents asked to 'shelter in place' are ...   \n",
      "3   6     NaN      NaN  13,000 people receive #wildfires evacuation or...   \n",
      "4   7     NaN      NaN  Just got sent this photo from Ruby #Alaska as ...   \n",
      "\n",
      "   target  text_length  \n",
      "0       1           69  \n",
      "1       1           38  \n",
      "2       1          133  \n",
      "3       1           65  \n",
      "4       1           88  \n"
     ]
    },
    {
     "data": {
      "text/plain": [
       "<AxesSubplot:xlabel='text_length', ylabel='target'>"
      ]
     },
     "execution_count": 14,
     "metadata": {},
     "output_type": "execute_result"
    },
    {
     "data": {
      "image/png": "[encoded data removed]",
      "text/plain": [
       "<Figure size 432x288 with 1 Axes>"
      ]
     },
     "metadata": {
      "needs_background": "light"
     },
     "output_type": "display_data"
    }
   ],
   "source": [
    "train_df['text_length'] = train_df['text'].str.len()\n",
    "print(train_df.head())\n",
    "train_df.plot('text_length', 'target', kind='scatter')"
   ]
  },
  {
   "cell_type": "markdown",
   "metadata": {},
   "source": [
    "## Text inspection\n",
    "\n",
    "From the visual inspection of the texts it turns out that there is a large number of identical texts that differ only by an http link. These texts, however, often have contradictory labels. For example, a number of texts contain the string\n",
    "\n",
    "> U.S National Park Services Tonto National Forest: Stop the Annihilation of the Salt River Wild Horse"
   ]
  },
  {
   "cell_type": "code",
   "execution_count": 15,
   "metadata": {},
   "outputs": [],
   "source": [
    "s = 'U.S National Park Services Tonto National Forest: Stop the Annihilation of the Salt River Wild Horse'\n",
    "df = train_df[['keyword', 'text', 'target']]\n",
    "df = df[df.text.str.contains(s)]"
   ]
  },
  {
   "cell_type": "code",
   "execution_count": 16,
   "metadata": {},
   "outputs": [
    {
     "data": {
      "text/html": [
       "<div>\n",
       "<style scoped>\n",
       "    .dataframe tbody tr th:only-of-type {\n",
       "        vertical-align: middle;\n",
       "    }\n",
       "\n",
       "    .dataframe tbody tr th {\n",
       "        vertical-align: top;\n",
       "    }\n",
       "\n",
       "    .dataframe thead th {\n",
       "        text-align: right;\n",
       "    }\n",
       "</style>\n",
       "<table border=\"1\" class=\"dataframe\">\n",
       "  <thead>\n",
       "    <tr style=\"text-align: right;\">\n",
       "      <th></th>\n",
       "      <th>keyword</th>\n",
       "      <th>text</th>\n",
       "      <th>target</th>\n",
       "    </tr>\n",
       "  </thead>\n",
       "  <tbody>\n",
       "    <tr>\n",
       "      <th>246</th>\n",
       "      <td>annihilation</td>\n",
       "      <td>U.S National Park Services Tonto National Forest: Stop the Annihilation of the Salt River Wild Horse... http://t.co/6LoJOoROuk via @Change</td>\n",
       "      <td>0</td>\n",
       "    </tr>\n",
       "    <tr>\n",
       "      <th>250</th>\n",
       "      <td>annihilation</td>\n",
       "      <td>U.S National Park Services Tonto National Forest: Stop the Annihilation of the Salt River Wild Horse... https://t.co/m8MvDSPJp7 via @Change</td>\n",
       "      <td>0</td>\n",
       "    </tr>\n",
       "    <tr>\n",
       "      <th>251</th>\n",
       "      <td>annihilation</td>\n",
       "      <td>U.S National Park Services Tonto National Forest: Stop the Annihilation of the Salt River Wild Horse... https://t.co/sW1sBua3mN via @Change</td>\n",
       "      <td>1</td>\n",
       "    </tr>\n",
       "    <tr>\n",
       "      <th>253</th>\n",
       "      <td>annihilation</td>\n",
       "      <td>U.S National Park Services Tonto National Forest: Stop the Annihilation of the Salt River Wild Horse... http://t.co/KPQk0C4G0M via @Change</td>\n",
       "      <td>1</td>\n",
       "    </tr>\n",
       "    <tr>\n",
       "      <th>259</th>\n",
       "      <td>annihilation</td>\n",
       "      <td>U.S National Park Services Tonto National Forest: Stop the Annihilation of the Salt River Wild Horse... https://t.co/MatIJwkzbh via @Change</td>\n",
       "      <td>0</td>\n",
       "    </tr>\n",
       "    <tr>\n",
       "      <th>266</th>\n",
       "      <td>annihilation</td>\n",
       "      <td>U.S National Park Services Tonto National Forest: Stop the Annihilation of the Salt River Wild Horse... https://t.co/x2Wn7O2a3w via @Change</td>\n",
       "      <td>0</td>\n",
       "    </tr>\n",
       "    <tr>\n",
       "      <th>270</th>\n",
       "      <td>annihilation</td>\n",
       "      <td>U.S National Park Services Tonto National Forest: Stop the Annihilation of the Salt River Wild Horse... https://t.co/0fekgyBY5F via @Change</td>\n",
       "      <td>0</td>\n",
       "    </tr>\n",
       "    <tr>\n",
       "      <th>271</th>\n",
       "      <td>annihilation</td>\n",
       "      <td>U.S National Park Services Tonto National Forest: Stop the Annihilation of the Salt River Wild Horse... http://t.co/SB5R7ShcCJ via @Change</td>\n",
       "      <td>1</td>\n",
       "    </tr>\n",
       "  </tbody>\n",
       "</table>\n",
       "</div>"
      ],
      "text/plain": [
       "          keyword  \\\n",
       "246  annihilation   \n",
       "250  annihilation   \n",
       "251  annihilation   \n",
       "253  annihilation   \n",
       "259  annihilation   \n",
       "266  annihilation   \n",
       "270  annihilation   \n",
       "271  annihilation   \n",
       "\n",
       "                                                                                                                                            text  \\\n",
       "246   U.S National Park Services Tonto National Forest: Stop the Annihilation of the Salt River Wild Horse... http://t.co/6LoJOoROuk via @Change   \n",
       "250  U.S National Park Services Tonto National Forest: Stop the Annihilation of the Salt River Wild Horse... https://t.co/m8MvDSPJp7 via @Change   \n",
       "251  U.S National Park Services Tonto National Forest: Stop the Annihilation of the Salt River Wild Horse... https://t.co/sW1sBua3mN via @Change   \n",
       "253   U.S National Park Services Tonto National Forest: Stop the Annihilation of the Salt River Wild Horse... http://t.co/KPQk0C4G0M via @Change   \n",
       "259  U.S National Park Services Tonto National Forest: Stop the Annihilation of the Salt River Wild Horse... https://t.co/MatIJwkzbh via @Change   \n",
       "266  U.S National Park Services Tonto National Forest: Stop the Annihilation of the Salt River Wild Horse... https://t.co/x2Wn7O2a3w via @Change   \n",
       "270  U.S National Park Services Tonto National Forest: Stop the Annihilation of the Salt River Wild Horse... https://t.co/0fekgyBY5F via @Change   \n",
       "271   U.S National Park Services Tonto National Forest: Stop the Annihilation of the Salt River Wild Horse... http://t.co/SB5R7ShcCJ via @Change   \n",
       "\n",
       "     target  \n",
       "246       0  \n",
       "250       0  \n",
       "251       1  \n",
       "253       1  \n",
       "259       0  \n",
       "266       0  \n",
       "270       0  \n",
       "271       1  "
      ]
     },
     "execution_count": 16,
     "metadata": {},
     "output_type": "execute_result"
    }
   ],
   "source": [
    "max_col_width = pd.options.display.max_colwidth\n",
    "pd.options.display.max_colwidth = 140\n",
    "df"
   ]
  },
  {
   "cell_type": "markdown",
   "metadata": {},
   "source": [
    "The texts above are the same, and they all point to the same web page, but the target is 5 times 0 and 3 times 1.\n",
    "We remove URLs and Twitter handles and take a majority vote over the entries, hoping that this will reduce the variability."
   ]
  },
  {
   "cell_type": "code",
   "execution_count": 17,
   "metadata": {},
   "outputs": [],
   "source": [
    "def process_txt(txt):\n",
    "    txt = re.sub('@[^ ]+', '', txt)\n",
    "    txt = re.sub('https?[^ ]+', '', txt)\n",
    "    txt = txt.replace('#', '')\n",
    "    txt = re.sub('\\s+', ' ', txt)\n",
    "    txt = re.sub('^ ', '', txt)\n",
    "    return txt.lower()"
   ]
  },
  {
   "cell_type": "markdown",
   "metadata": {},
   "source": [
    "We test the function above on texts containing handles and urls"
   ]
  },
  {
   "cell_type": "code",
   "execution_count": 18,
   "metadata": {},
   "outputs": [
    {
     "data": {
      "text/plain": [
       "['wholesale markets ablaze ',\n",
       " 'we always try to bring the heavy. metal rt ',\n",
       " 'africanbaze: breaking news:nigeria flag set ablaze in aba. ',\n",
       " 'on plus side look at the sky last night it was ablaze ',\n",
       " 'inec office in abia set ablaze - ',\n",
       " 'wholesale markets ablaze ',\n",
       " \"mufc they've built so much hype around new acquisitions but i doubt they will set the epl ablaze this season.\",\n",
       " 'soooo pumped for ablaze ???? ',\n",
       " \"noches el-bestia ' happy to see my teammates and training hard ?? goodnight gunners.?????? \",\n",
       " 'set our hearts ablaze and every city was a gift and every skyline was like a kiss upon the lips ']"
      ]
     },
     "execution_count": 18,
     "metadata": {},
     "output_type": "execute_result"
    }
   ],
   "source": [
    "train_texts = train_df.text.values\n",
    "contains_url = [txt for txt in train_texts if txt.find('http') != -1]\n",
    "contains_handle = [txt for txt in train_texts if txt.find('@') != -1]\n",
    "dirty_txt = contains_url[:5] + contains_handle[:5]\n",
    "\n",
    "clean_txt = [process_txt(txt) for txt in dirty_txt]\n",
    "clean_txt"
   ]
  },
  {
   "cell_type": "markdown",
   "metadata": {},
   "source": [
    "This function should be applied as part of a pipeline, together with the majority voting. We test the majority voting on the \"Salt River Wild Horse\" subset."
   ]
  },
  {
   "cell_type": "code",
   "execution_count": 19,
   "metadata": {},
   "outputs": [
    {
     "data": {
      "text/html": [
       "<div>\n",
       "<style scoped>\n",
       "    .dataframe tbody tr th:only-of-type {\n",
       "        vertical-align: middle;\n",
       "    }\n",
       "\n",
       "    .dataframe tbody tr th {\n",
       "        vertical-align: top;\n",
       "    }\n",
       "\n",
       "    .dataframe thead th {\n",
       "        text-align: right;\n",
       "    }\n",
       "</style>\n",
       "<table border=\"1\" class=\"dataframe\">\n",
       "  <thead>\n",
       "    <tr style=\"text-align: right;\">\n",
       "      <th></th>\n",
       "      <th>keyword</th>\n",
       "      <th>text</th>\n",
       "      <th>target</th>\n",
       "    </tr>\n",
       "  </thead>\n",
       "  <tbody>\n",
       "    <tr>\n",
       "      <th>246</th>\n",
       "      <td>annihilation</td>\n",
       "      <td>U.S National Park Services Tonto National Forest: Stop the Annihilation of the Salt River Wild Horse... http://t.co/6LoJOoROuk via @Change</td>\n",
       "      <td>0</td>\n",
       "    </tr>\n",
       "    <tr>\n",
       "      <th>250</th>\n",
       "      <td>annihilation</td>\n",
       "      <td>U.S National Park Services Tonto National Forest: Stop the Annihilation of the Salt River Wild Horse... https://t.co/m8MvDSPJp7 via @Change</td>\n",
       "      <td>0</td>\n",
       "    </tr>\n",
       "    <tr>\n",
       "      <th>251</th>\n",
       "      <td>annihilation</td>\n",
       "      <td>U.S National Park Services Tonto National Forest: Stop the Annihilation of the Salt River Wild Horse... https://t.co/sW1sBua3mN via @Change</td>\n",
       "      <td>1</td>\n",
       "    </tr>\n",
       "    <tr>\n",
       "      <th>253</th>\n",
       "      <td>annihilation</td>\n",
       "      <td>U.S National Park Services Tonto National Forest: Stop the Annihilation of the Salt River Wild Horse... http://t.co/KPQk0C4G0M via @Change</td>\n",
       "      <td>1</td>\n",
       "    </tr>\n",
       "    <tr>\n",
       "      <th>259</th>\n",
       "      <td>annihilation</td>\n",
       "      <td>U.S National Park Services Tonto National Forest: Stop the Annihilation of the Salt River Wild Horse... https://t.co/MatIJwkzbh via @Change</td>\n",
       "      <td>0</td>\n",
       "    </tr>\n",
       "    <tr>\n",
       "      <th>266</th>\n",
       "      <td>annihilation</td>\n",
       "      <td>U.S National Park Services Tonto National Forest: Stop the Annihilation of the Salt River Wild Horse... https://t.co/x2Wn7O2a3w via @Change</td>\n",
       "      <td>0</td>\n",
       "    </tr>\n",
       "    <tr>\n",
       "      <th>270</th>\n",
       "      <td>annihilation</td>\n",
       "      <td>U.S National Park Services Tonto National Forest: Stop the Annihilation of the Salt River Wild Horse... https://t.co/0fekgyBY5F via @Change</td>\n",
       "      <td>0</td>\n",
       "    </tr>\n",
       "    <tr>\n",
       "      <th>271</th>\n",
       "      <td>annihilation</td>\n",
       "      <td>U.S National Park Services Tonto National Forest: Stop the Annihilation of the Salt River Wild Horse... http://t.co/SB5R7ShcCJ via @Change</td>\n",
       "      <td>1</td>\n",
       "    </tr>\n",
       "  </tbody>\n",
       "</table>\n",
       "</div>"
      ],
      "text/plain": [
       "          keyword  \\\n",
       "246  annihilation   \n",
       "250  annihilation   \n",
       "251  annihilation   \n",
       "253  annihilation   \n",
       "259  annihilation   \n",
       "266  annihilation   \n",
       "270  annihilation   \n",
       "271  annihilation   \n",
       "\n",
       "                                                                                                                                            text  \\\n",
       "246   U.S National Park Services Tonto National Forest: Stop the Annihilation of the Salt River Wild Horse... http://t.co/6LoJOoROuk via @Change   \n",
       "250  U.S National Park Services Tonto National Forest: Stop the Annihilation of the Salt River Wild Horse... https://t.co/m8MvDSPJp7 via @Change   \n",
       "251  U.S National Park Services Tonto National Forest: Stop the Annihilation of the Salt River Wild Horse... https://t.co/sW1sBua3mN via @Change   \n",
       "253   U.S National Park Services Tonto National Forest: Stop the Annihilation of the Salt River Wild Horse... http://t.co/KPQk0C4G0M via @Change   \n",
       "259  U.S National Park Services Tonto National Forest: Stop the Annihilation of the Salt River Wild Horse... https://t.co/MatIJwkzbh via @Change   \n",
       "266  U.S National Park Services Tonto National Forest: Stop the Annihilation of the Salt River Wild Horse... https://t.co/x2Wn7O2a3w via @Change   \n",
       "270  U.S National Park Services Tonto National Forest: Stop the Annihilation of the Salt River Wild Horse... https://t.co/0fekgyBY5F via @Change   \n",
       "271   U.S National Park Services Tonto National Forest: Stop the Annihilation of the Salt River Wild Horse... http://t.co/SB5R7ShcCJ via @Change   \n",
       "\n",
       "     target  \n",
       "246       0  \n",
       "250       0  \n",
       "251       1  \n",
       "253       1  \n",
       "259       0  \n",
       "266       0  \n",
       "270       0  \n",
       "271       1  "
      ]
     },
     "execution_count": 19,
     "metadata": {},
     "output_type": "execute_result"
    }
   ],
   "source": [
    "df"
   ]
  },
  {
   "cell_type": "code",
   "execution_count": 20,
   "metadata": {},
   "outputs": [
    {
     "data": {
      "text/html": [
       "<div>\n",
       "<style scoped>\n",
       "    .dataframe tbody tr th:only-of-type {\n",
       "        vertical-align: middle;\n",
       "    }\n",
       "\n",
       "    .dataframe tbody tr th {\n",
       "        vertical-align: top;\n",
       "    }\n",
       "\n",
       "    .dataframe thead th {\n",
       "        text-align: right;\n",
       "    }\n",
       "</style>\n",
       "<table border=\"1\" class=\"dataframe\">\n",
       "  <thead>\n",
       "    <tr style=\"text-align: right;\">\n",
       "      <th></th>\n",
       "      <th>keyword</th>\n",
       "      <th>text</th>\n",
       "      <th>target</th>\n",
       "    </tr>\n",
       "  </thead>\n",
       "  <tbody>\n",
       "    <tr>\n",
       "      <th>246</th>\n",
       "      <td>annihilation</td>\n",
       "      <td>u.s national park services tonto national forest: stop the annihilation of the salt river wild horse... via</td>\n",
       "      <td>0</td>\n",
       "    </tr>\n",
       "    <tr>\n",
       "      <th>250</th>\n",
       "      <td>annihilation</td>\n",
       "      <td>u.s national park services tonto national forest: stop the annihilation of the salt river wild horse... via</td>\n",
       "      <td>0</td>\n",
       "    </tr>\n",
       "    <tr>\n",
       "      <th>251</th>\n",
       "      <td>annihilation</td>\n",
       "      <td>u.s national park services tonto national forest: stop the annihilation of the salt river wild horse... via</td>\n",
       "      <td>1</td>\n",
       "    </tr>\n",
       "    <tr>\n",
       "      <th>253</th>\n",
       "      <td>annihilation</td>\n",
       "      <td>u.s national park services tonto national forest: stop the annihilation of the salt river wild horse... via</td>\n",
       "      <td>1</td>\n",
       "    </tr>\n",
       "    <tr>\n",
       "      <th>259</th>\n",
       "      <td>annihilation</td>\n",
       "      <td>u.s national park services tonto national forest: stop the annihilation of the salt river wild horse... via</td>\n",
       "      <td>0</td>\n",
       "    </tr>\n",
       "    <tr>\n",
       "      <th>266</th>\n",
       "      <td>annihilation</td>\n",
       "      <td>u.s national park services tonto national forest: stop the annihilation of the salt river wild horse... via</td>\n",
       "      <td>0</td>\n",
       "    </tr>\n",
       "    <tr>\n",
       "      <th>270</th>\n",
       "      <td>annihilation</td>\n",
       "      <td>u.s national park services tonto national forest: stop the annihilation of the salt river wild horse... via</td>\n",
       "      <td>0</td>\n",
       "    </tr>\n",
       "    <tr>\n",
       "      <th>271</th>\n",
       "      <td>annihilation</td>\n",
       "      <td>u.s national park services tonto national forest: stop the annihilation of the salt river wild horse... via</td>\n",
       "      <td>1</td>\n",
       "    </tr>\n",
       "  </tbody>\n",
       "</table>\n",
       "</div>"
      ],
      "text/plain": [
       "          keyword  \\\n",
       "246  annihilation   \n",
       "250  annihilation   \n",
       "251  annihilation   \n",
       "253  annihilation   \n",
       "259  annihilation   \n",
       "266  annihilation   \n",
       "270  annihilation   \n",
       "271  annihilation   \n",
       "\n",
       "                                                                                                             text  \\\n",
       "246  u.s national park services tonto national forest: stop the annihilation of the salt river wild horse... via    \n",
       "250  u.s national park services tonto national forest: stop the annihilation of the salt river wild horse... via    \n",
       "251  u.s national park services tonto national forest: stop the annihilation of the salt river wild horse... via    \n",
       "253  u.s national park services tonto national forest: stop the annihilation of the salt river wild horse... via    \n",
       "259  u.s national park services tonto national forest: stop the annihilation of the salt river wild horse... via    \n",
       "266  u.s national park services tonto national forest: stop the annihilation of the salt river wild horse... via    \n",
       "270  u.s national park services tonto national forest: stop the annihilation of the salt river wild horse... via    \n",
       "271  u.s national park services tonto national forest: stop the annihilation of the salt river wild horse... via    \n",
       "\n",
       "     target  \n",
       "246       0  \n",
       "250       0  \n",
       "251       1  \n",
       "253       1  \n",
       "259       0  \n",
       "266       0  \n",
       "270       0  \n",
       "271       1  "
      ]
     },
     "execution_count": 20,
     "metadata": {},
     "output_type": "execute_result"
    }
   ],
   "source": [
    "df['text'] = df['text'].apply(process_txt)\n",
    "df"
   ]
  },
  {
   "cell_type": "code",
   "execution_count": 21,
   "metadata": {},
   "outputs": [],
   "source": [
    "tmp = df.groupby(['keyword', 'text', 'target']).size().sort_values(ascending=False).reset_index()"
   ]
  },
  {
   "cell_type": "code",
   "execution_count": 22,
   "metadata": {},
   "outputs": [
    {
     "data": {
      "text/html": [
       "<div>\n",
       "<style scoped>\n",
       "    .dataframe tbody tr th:only-of-type {\n",
       "        vertical-align: middle;\n",
       "    }\n",
       "\n",
       "    .dataframe tbody tr th {\n",
       "        vertical-align: top;\n",
       "    }\n",
       "\n",
       "    .dataframe thead th {\n",
       "        text-align: right;\n",
       "    }\n",
       "</style>\n",
       "<table border=\"1\" class=\"dataframe\">\n",
       "  <thead>\n",
       "    <tr style=\"text-align: right;\">\n",
       "      <th></th>\n",
       "      <th></th>\n",
       "      <th></th>\n",
       "      <th>0</th>\n",
       "    </tr>\n",
       "    <tr>\n",
       "      <th>keyword</th>\n",
       "      <th>text</th>\n",
       "      <th>target</th>\n",
       "      <th></th>\n",
       "    </tr>\n",
       "  </thead>\n",
       "  <tbody>\n",
       "    <tr>\n",
       "      <th rowspan=\"2\" valign=\"top\">annihilation</th>\n",
       "      <th rowspan=\"2\" valign=\"top\">u.s national park services tonto national forest: stop the annihilation of the salt river wild horse... via</th>\n",
       "      <th>0</th>\n",
       "      <td>5</td>\n",
       "    </tr>\n",
       "    <tr>\n",
       "      <th>1</th>\n",
       "      <td>3</td>\n",
       "    </tr>\n",
       "  </tbody>\n",
       "</table>\n",
       "</div>"
      ],
      "text/plain": [
       "                                                                                                                                  0\n",
       "keyword      text                                                                                                         target   \n",
       "annihilation u.s national park services tonto national forest: stop the annihilation of the salt river wild horse... via  0       5\n",
       "                                                                                                                          1       3"
      ]
     },
     "execution_count": 22,
     "metadata": {},
     "output_type": "execute_result"
    }
   ],
   "source": [
    "tmp.groupby(['keyword', 'text', 'target']).nth(0)"
   ]
  },
  {
   "cell_type": "markdown",
   "metadata": {},
   "source": [
    "We apply this transformation to the training and to the test sets. First, we replace missing keywords by the string 'missing' in the training set."
   ]
  },
  {
   "cell_type": "code",
   "execution_count": 23,
   "metadata": {},
   "outputs": [
    {
     "data": {
      "text/html": [
       "<div>\n",
       "<style scoped>\n",
       "    .dataframe tbody tr th:only-of-type {\n",
       "        vertical-align: middle;\n",
       "    }\n",
       "\n",
       "    .dataframe tbody tr th {\n",
       "        vertical-align: top;\n",
       "    }\n",
       "\n",
       "    .dataframe thead th {\n",
       "        text-align: right;\n",
       "    }\n",
       "</style>\n",
       "<table border=\"1\" class=\"dataframe\">\n",
       "  <thead>\n",
       "    <tr style=\"text-align: right;\">\n",
       "      <th></th>\n",
       "      <th>keyword</th>\n",
       "      <th>target</th>\n",
       "      <th>0</th>\n",
       "    </tr>\n",
       "    <tr>\n",
       "      <th>clean_text</th>\n",
       "      <th></th>\n",
       "      <th></th>\n",
       "      <th></th>\n",
       "    </tr>\n",
       "  </thead>\n",
       "  <tbody>\n",
       "    <tr>\n",
       "      <th>watch this airport get swallowed up by a sandstorm in under a minute</th>\n",
       "      <td>sandstorm</td>\n",
       "      <td>1</td>\n",
       "      <td>24</td>\n",
       "    </tr>\n",
       "    <tr>\n",
       "      <th>wreckage 'conclusively confirmed' as from mh370: malaysia pm: investigators and the families of those who were...</th>\n",
       "      <td>wreckage</td>\n",
       "      <td>1</td>\n",
       "      <td>20</td>\n",
       "    </tr>\n",
       "    <tr>\n",
       "      <th>families to sue over legionnaires: more than 40 families affected by the fatal outbreak of legionnaires' disea...</th>\n",
       "      <td>outbreak</td>\n",
       "      <td>1</td>\n",
       "      <td>19</td>\n",
       "    </tr>\n",
       "    <tr>\n",
       "      <th>christian attacked by muslims at the temple mount after waving israeli flag via pamela geller - ...</th>\n",
       "      <td>attacked</td>\n",
       "      <td>1</td>\n",
       "      <td>15</td>\n",
       "    </tr>\n",
       "    <tr>\n",
       "      <th>hot funtenna: hijacking computers to send data as sound waves [black hat 2015] prebreak best</th>\n",
       "      <td>hijacking</td>\n",
       "      <td>0</td>\n",
       "      <td>12</td>\n",
       "    </tr>\n",
       "    <tr>\n",
       "      <th>...</th>\n",
       "      <td>...</td>\n",
       "      <td>...</td>\n",
       "      <td>...</td>\n",
       "    </tr>\n",
       "    <tr>\n",
       "      <th>online infantryman experimental military training tutorials shower down upon assertative intelligence as regard...</th>\n",
       "      <td>military</td>\n",
       "      <td>0</td>\n",
       "      <td>1</td>\n",
       "    </tr>\n",
       "    <tr>\n",
       "      <th>pakistan supreme court oks military courts to try civilians: the supreme court ruling would empower the milita...</th>\n",
       "      <td>military</td>\n",
       "      <td>0</td>\n",
       "      <td>1</td>\n",
       "    </tr>\n",
       "    <tr>\n",
       "      <th>russian ushanka winter military fur hat (xl61-62) with soviet badge link:</th>\n",
       "      <td>military</td>\n",
       "      <td>0</td>\n",
       "      <td>1</td>\n",
       "    </tr>\n",
       "    <tr>\n",
       "      <th>senator 'alarmed' by reports u.s. military families harassed: a u.s. senator said on wednesday he was alarmed byû_</th>\n",
       "      <td>military</td>\n",
       "      <td>1</td>\n",
       "      <td>1</td>\n",
       "    </tr>\n",
       "    <tr>\n",
       "      <th>ablaze for you lord :d</th>\n",
       "      <td>ablaze</td>\n",
       "      <td>0</td>\n",
       "      <td>1</td>\n",
       "    </tr>\n",
       "  </tbody>\n",
       "</table>\n",
       "<p>6914 rows × 3 columns</p>\n",
       "</div>"
      ],
      "text/plain": [
       "                                                                                                                        keyword  \\\n",
       "clean_text                                                                                                                        \n",
       "watch this airport get swallowed up by a sandstorm in under a minute                                                  sandstorm   \n",
       "wreckage 'conclusively confirmed' as from mh370: malaysia pm: investigators and the families of those who were...      wreckage   \n",
       "families to sue over legionnaires: more than 40 families affected by the fatal outbreak of legionnaires' disea...      outbreak   \n",
       "christian attacked by muslims at the temple mount after waving israeli flag via pamela geller - ...                    attacked   \n",
       "hot funtenna: hijacking computers to send data as sound waves [black hat 2015] prebreak best                          hijacking   \n",
       "...                                                                                                                         ...   \n",
       "online infantryman experimental military training tutorials shower down upon assertative intelligence as regard...     military   \n",
       "pakistan supreme court oks military courts to try civilians: the supreme court ruling would empower the milita...      military   \n",
       "russian ushanka winter military fur hat (xl61-62) with soviet badge link:                                              military   \n",
       "senator 'alarmed' by reports u.s. military families harassed: a u.s. senator said on wednesday he was alarmed byû_    military   \n",
       "ablaze for you lord :d                                                                                                   ablaze   \n",
       "\n",
       "                                                                                                                      target  \\\n",
       "clean_text                                                                                                                     \n",
       "watch this airport get swallowed up by a sandstorm in under a minute                                                       1   \n",
       "wreckage 'conclusively confirmed' as from mh370: malaysia pm: investigators and the families of those who were...          1   \n",
       "families to sue over legionnaires: more than 40 families affected by the fatal outbreak of legionnaires' disea...          1   \n",
       "christian attacked by muslims at the temple mount after waving israeli flag via pamela geller - ...                        1   \n",
       "hot funtenna: hijacking computers to send data as sound waves [black hat 2015] prebreak best                               0   \n",
       "...                                                                                                                      ...   \n",
       "online infantryman experimental military training tutorials shower down upon assertative intelligence as regard...         0   \n",
       "pakistan supreme court oks military courts to try civilians: the supreme court ruling would empower the milita...          0   \n",
       "russian ushanka winter military fur hat (xl61-62) with soviet badge link:                                                  0   \n",
       "senator 'alarmed' by reports u.s. military families harassed: a u.s. senator said on wednesday he was alarmed byû_        1   \n",
       "ablaze for you lord :d                                                                                                     0   \n",
       "\n",
       "                                                                                                                       0  \n",
       "clean_text                                                                                                                \n",
       "watch this airport get swallowed up by a sandstorm in under a minute                                                  24  \n",
       "wreckage 'conclusively confirmed' as from mh370: malaysia pm: investigators and the families of those who were...     20  \n",
       "families to sue over legionnaires: more than 40 families affected by the fatal outbreak of legionnaires' disea...     19  \n",
       "christian attacked by muslims at the temple mount after waving israeli flag via pamela geller - ...                   15  \n",
       "hot funtenna: hijacking computers to send data as sound waves [black hat 2015] prebreak best                          12  \n",
       "...                                                                                                                   ..  \n",
       "online infantryman experimental military training tutorials shower down upon assertative intelligence as regard...     1  \n",
       "pakistan supreme court oks military courts to try civilians: the supreme court ruling would empower the milita...      1  \n",
       "russian ushanka winter military fur hat (xl61-62) with soviet badge link:                                              1  \n",
       "senator 'alarmed' by reports u.s. military families harassed: a u.s. senator said on wednesday he was alarmed byû_    1  \n",
       "ablaze for you lord :d                                                                                                 1  \n",
       "\n",
       "[6914 rows x 3 columns]"
      ]
     },
     "execution_count": 23,
     "metadata": {},
     "output_type": "execute_result"
    }
   ],
   "source": [
    "train_df['keyword'] = train_df.keyword.fillna('missing')\n",
    "train_df['clean_text'] = train_df['text'].apply(process_txt)\n",
    "clean_train_df = train_df.groupby(['keyword', 'clean_text', 'target']).size().sort_values(ascending=False).reset_index()\n",
    "clean_train_df = clean_train_df.groupby(['clean_text'], sort=False).nth(0)\n",
    "clean_train_df"
   ]
  },
  {
   "cell_type": "markdown",
   "metadata": {},
   "source": [
    "We inspect the entries with empty keyword (replaced by `missing`)."
   ]
  },
  {
   "cell_type": "code",
   "execution_count": 24,
   "metadata": {},
   "outputs": [
    {
     "data": {
      "text/html": [
       "<div>\n",
       "<style scoped>\n",
       "    .dataframe tbody tr th:only-of-type {\n",
       "        vertical-align: middle;\n",
       "    }\n",
       "\n",
       "    .dataframe tbody tr th {\n",
       "        vertical-align: top;\n",
       "    }\n",
       "\n",
       "    .dataframe thead th {\n",
       "        text-align: right;\n",
       "    }\n",
       "</style>\n",
       "<table border=\"1\" class=\"dataframe\">\n",
       "  <thead>\n",
       "    <tr style=\"text-align: right;\">\n",
       "      <th></th>\n",
       "      <th>keyword</th>\n",
       "      <th>target</th>\n",
       "      <th>0</th>\n",
       "    </tr>\n",
       "    <tr>\n",
       "      <th>clean_text</th>\n",
       "      <th></th>\n",
       "      <th></th>\n",
       "      <th></th>\n",
       "    </tr>\n",
       "  </thead>\n",
       "  <tbody>\n",
       "    <tr>\n",
       "      <th>there's an emergency evacuation happening now in the building across the street</th>\n",
       "      <td>missing</td>\n",
       "      <td>1</td>\n",
       "      <td>1</td>\n",
       "    </tr>\n",
       "    <tr>\n",
       "      <th>these boxes are ready to explode! exploding kittens finally arrived! gameofkittens explodingkittensû_</th>\n",
       "      <td>missing</td>\n",
       "      <td>0</td>\n",
       "      <td>1</td>\n",
       "    </tr>\n",
       "    <tr>\n",
       "      <th>this is ridiculous....</th>\n",
       "      <td>missing</td>\n",
       "      <td>0</td>\n",
       "      <td>1</td>\n",
       "    </tr>\n",
       "    <tr>\n",
       "      <th>three people died from the heat wave so far</th>\n",
       "      <td>missing</td>\n",
       "      <td>1</td>\n",
       "      <td>1</td>\n",
       "    </tr>\n",
       "    <tr>\n",
       "      <th>was in nyc last week!</th>\n",
       "      <td>missing</td>\n",
       "      <td>0</td>\n",
       "      <td>1</td>\n",
       "    </tr>\n",
       "    <tr>\n",
       "      <th>what a goooooooaaaaaal!!!!!!</th>\n",
       "      <td>missing</td>\n",
       "      <td>0</td>\n",
       "      <td>1</td>\n",
       "    </tr>\n",
       "    <tr>\n",
       "      <th>what a wonderful day!</th>\n",
       "      <td>missing</td>\n",
       "      <td>0</td>\n",
       "      <td>1</td>\n",
       "    </tr>\n",
       "    <tr>\n",
       "      <th>what's up man?</th>\n",
       "      <td>missing</td>\n",
       "      <td>0</td>\n",
       "      <td>1</td>\n",
       "    </tr>\n",
       "    <tr>\n",
       "      <th>the end!</th>\n",
       "      <td>missing</td>\n",
       "      <td>0</td>\n",
       "      <td>1</td>\n",
       "    </tr>\n",
       "    <tr>\n",
       "      <th>i'm afraid that the tornado is coming to our area...</th>\n",
       "      <td>missing</td>\n",
       "      <td>1</td>\n",
       "      <td>1</td>\n",
       "    </tr>\n",
       "    <tr>\n",
       "      <th>summer is lovely</th>\n",
       "      <td>missing</td>\n",
       "      <td>0</td>\n",
       "      <td>1</td>\n",
       "    </tr>\n",
       "    <tr>\n",
       "      <th>just got sent this photo from ruby alaska as smoke from wildfires pours into a school</th>\n",
       "      <td>missing</td>\n",
       "      <td>1</td>\n",
       "      <td>1</td>\n",
       "    </tr>\n",
       "    <tr>\n",
       "      <th>london is cool ;)</th>\n",
       "      <td>missing</td>\n",
       "      <td>0</td>\n",
       "      <td>1</td>\n",
       "    </tr>\n",
       "    <tr>\n",
       "      <th>looooool</th>\n",
       "      <td>missing</td>\n",
       "      <td>0</td>\n",
       "      <td>1</td>\n",
       "    </tr>\n",
       "    <tr>\n",
       "      <th>love my girlfriend</th>\n",
       "      <td>missing</td>\n",
       "      <td>0</td>\n",
       "      <td>1</td>\n",
       "    </tr>\n",
       "    <tr>\n",
       "      <th>love skiing</th>\n",
       "      <td>missing</td>\n",
       "      <td>0</td>\n",
       "      <td>1</td>\n",
       "    </tr>\n",
       "    <tr>\n",
       "      <th>my car is so fast</th>\n",
       "      <td>missing</td>\n",
       "      <td>0</td>\n",
       "      <td>1</td>\n",
       "    </tr>\n",
       "    <tr>\n",
       "      <th>no way...i can't eat that shit</th>\n",
       "      <td>missing</td>\n",
       "      <td>0</td>\n",
       "      <td>1</td>\n",
       "    </tr>\n",
       "    <tr>\n",
       "      <th>nws: flash flood warning continued for shelby county until 08:00 pm wednesday. tnwx</th>\n",
       "      <td>missing</td>\n",
       "      <td>1</td>\n",
       "      <td>1</td>\n",
       "    </tr>\n",
       "    <tr>\n",
       "      <th>officials say a quarantine is in place at an alabama home over a possible ebola case after developing symptoms...</th>\n",
       "      <td>missing</td>\n",
       "      <td>1</td>\n",
       "      <td>1</td>\n",
       "    </tr>\n",
       "    <tr>\n",
       "      <th>omg earthquake</th>\n",
       "      <td>missing</td>\n",
       "      <td>1</td>\n",
       "      <td>1</td>\n",
       "    </tr>\n",
       "    <tr>\n",
       "      <th>on the flip side i'm at walmart and there is a bomb and everyone had to evacuate so stay tuned if i blow up or not</th>\n",
       "      <td>missing</td>\n",
       "      <td>1</td>\n",
       "      <td>1</td>\n",
       "    </tr>\n",
       "    <tr>\n",
       "      <th>our deeds are the reason of this earthquake may allah forgive us all</th>\n",
       "      <td>missing</td>\n",
       "      <td>1</td>\n",
       "      <td>1</td>\n",
       "    </tr>\n",
       "    <tr>\n",
       "      <th>raining flooding florida tampabay tampa 18 or 19 days. i've lost count</th>\n",
       "      <td>missing</td>\n",
       "      <td>1</td>\n",
       "      <td>1</td>\n",
       "    </tr>\n",
       "    <tr>\n",
       "      <th>rockyfire update =&gt; california hwy. 20 closed in both directions due to lake county fire - cafire wildfires</th>\n",
       "      <td>missing</td>\n",
       "      <td>1</td>\n",
       "      <td>1</td>\n",
       "    </tr>\n",
       "    <tr>\n",
       "      <th>rt nws issues severe thunderstorm warnings for parts of ar nc ok. expect more trauma cases:</th>\n",
       "      <td>missing</td>\n",
       "      <td>1</td>\n",
       "      <td>1</td>\n",
       "    </tr>\n",
       "    <tr>\n",
       "      <th>severe weather bulletin no. 5 for: typhoon ûïhannaphû (soudelor) tropical cyclone: warning issued at 5:00 pm 06... û_</th>\n",
       "      <td>missing</td>\n",
       "      <td>1</td>\n",
       "      <td>1</td>\n",
       "    </tr>\n",
       "    <tr>\n",
       "      <th>sirens everywhere!</th>\n",
       "      <td>missing</td>\n",
       "      <td>0</td>\n",
       "      <td>1</td>\n",
       "    </tr>\n",
       "    <tr>\n",
       "      <th>sismo detectado japì_n 15:41:07 seismic intensity 0 iwate miyagi jst ??</th>\n",
       "      <td>missing</td>\n",
       "      <td>1</td>\n",
       "      <td>1</td>\n",
       "    </tr>\n",
       "    <tr>\n",
       "      <th>suicide bomber kills 15 in saudi security site mosque - reuters via world - google news - wall ...</th>\n",
       "      <td>missing</td>\n",
       "      <td>1</td>\n",
       "      <td>1</td>\n",
       "    </tr>\n",
       "    <tr>\n",
       "      <th>i'm on top of the hill and i can see a fire in the woods...</th>\n",
       "      <td>missing</td>\n",
       "      <td>1</td>\n",
       "      <td>1</td>\n",
       "    </tr>\n",
       "    <tr>\n",
       "      <th>i love fruits</th>\n",
       "      <td>missing</td>\n",
       "      <td>0</td>\n",
       "      <td>1</td>\n",
       "    </tr>\n",
       "    <tr>\n",
       "      <th>i just heard a really loud bang and everyone is asleep great</th>\n",
       "      <td>missing</td>\n",
       "      <td>0</td>\n",
       "      <td>1</td>\n",
       "    </tr>\n",
       "    <tr>\n",
       "      <th>1.3 earthquake in 9km ssw of anza california iphone users download the earthquake app for more information</th>\n",
       "      <td>missing</td>\n",
       "      <td>1</td>\n",
       "      <td>1</td>\n",
       "    </tr>\n",
       "    <tr>\n",
       "      <th>13,000 people receive wildfires evacuation orders in california</th>\n",
       "      <td>missing</td>\n",
       "      <td>1</td>\n",
       "      <td>1</td>\n",
       "    </tr>\n",
       "    <tr>\n",
       "      <th>a gas thing just exploded and i heard screams and now the whole street smells of gas ... ??</th>\n",
       "      <td>missing</td>\n",
       "      <td>1</td>\n",
       "      <td>1</td>\n",
       "    </tr>\n",
       "    <tr>\n",
       "      <th>a siren just went off and it wasn't the forney tornado warning ??</th>\n",
       "      <td>missing</td>\n",
       "      <td>1</td>\n",
       "      <td>1</td>\n",
       "    </tr>\n",
       "    <tr>\n",
       "      <th>all residents asked to 'shelter in place' are being notified by officers. no other evacuation or shelter in place orders are expected</th>\n",
       "      <td>missing</td>\n",
       "      <td>1</td>\n",
       "      <td>1</td>\n",
       "    </tr>\n",
       "    <tr>\n",
       "      <th>an is group suicide bomber detonated an explosives-packed vest in a mosque inside a saudi special forces headquarters killing 15 people.</th>\n",
       "      <td>missing</td>\n",
       "      <td>1</td>\n",
       "      <td>1</td>\n",
       "    </tr>\n",
       "    <tr>\n",
       "      <th>breaking la refugio oil spill may have been costlier bigger than projected</th>\n",
       "      <td>missing</td>\n",
       "      <td>1</td>\n",
       "      <td>1</td>\n",
       "    </tr>\n",
       "    <tr>\n",
       "      <th>breaking: isis claims responsibility for mosque attack in saudi arabia that killed 13</th>\n",
       "      <td>missing</td>\n",
       "      <td>1</td>\n",
       "      <td>1</td>\n",
       "    </tr>\n",
       "    <tr>\n",
       "      <th>calgary police flood road closures in calgary.</th>\n",
       "      <td>missing</td>\n",
       "      <td>1</td>\n",
       "      <td>1</td>\n",
       "    </tr>\n",
       "    <tr>\n",
       "      <th>cooool :)</th>\n",
       "      <td>missing</td>\n",
       "      <td>0</td>\n",
       "      <td>1</td>\n",
       "    </tr>\n",
       "    <tr>\n",
       "      <th>damage to school bus on 80 in multi car crash breaking</th>\n",
       "      <td>missing</td>\n",
       "      <td>1</td>\n",
       "      <td>1</td>\n",
       "    </tr>\n",
       "    <tr>\n",
       "      <th>do you like pasta?</th>\n",
       "      <td>missing</td>\n",
       "      <td>0</td>\n",
       "      <td>1</td>\n",
       "    </tr>\n",
       "    <tr>\n",
       "      <th>father-of-three lost control of car after overtaking and collided bathandnortheastsomerset</th>\n",
       "      <td>missing</td>\n",
       "      <td>1</td>\n",
       "      <td>1</td>\n",
       "    </tr>\n",
       "    <tr>\n",
       "      <th>flood disaster heavy rain causes flash flooding of streets in manitou, colorado springs areas</th>\n",
       "      <td>missing</td>\n",
       "      <td>1</td>\n",
       "      <td>1</td>\n",
       "    </tr>\n",
       "    <tr>\n",
       "      <th>flood in bago myanmar we arrived bago</th>\n",
       "      <td>missing</td>\n",
       "      <td>1</td>\n",
       "      <td>1</td>\n",
       "    </tr>\n",
       "    <tr>\n",
       "      <th>forest fire near la ronge sask. canada</th>\n",
       "      <td>missing</td>\n",
       "      <td>1</td>\n",
       "      <td>1</td>\n",
       "    </tr>\n",
       "    <tr>\n",
       "      <th>haha south tampa is getting flooded hah- wait a second i live in south tampa what am i gonna do what am i gonna do fvck flooding</th>\n",
       "      <td>missing</td>\n",
       "      <td>1</td>\n",
       "      <td>1</td>\n",
       "    </tr>\n",
       "    <tr>\n",
       "      <th>heat wave warning aa? ayyo dei. just when i plan to visit friends after a year.</th>\n",
       "      <td>missing</td>\n",
       "      <td>1</td>\n",
       "      <td>1</td>\n",
       "    </tr>\n",
       "  </tbody>\n",
       "</table>\n",
       "</div>"
      ],
      "text/plain": [
       "                                                                                                                                          keyword  \\\n",
       "clean_text                                                                                                                                          \n",
       "there's an emergency evacuation happening now in the building across the street                                                           missing   \n",
       "these boxes are ready to explode! exploding kittens finally arrived! gameofkittens explodingkittensû_                                    missing   \n",
       "this is ridiculous....                                                                                                                    missing   \n",
       "three people died from the heat wave so far                                                                                               missing   \n",
       "was in nyc last week!                                                                                                                     missing   \n",
       "what a goooooooaaaaaal!!!!!!                                                                                                              missing   \n",
       "what a wonderful day!                                                                                                                     missing   \n",
       "what's up man?                                                                                                                            missing   \n",
       "the end!                                                                                                                                  missing   \n",
       "i'm afraid that the tornado is coming to our area...                                                                                      missing   \n",
       "summer is lovely                                                                                                                          missing   \n",
       "just got sent this photo from ruby alaska as smoke from wildfires pours into a school                                                     missing   \n",
       "london is cool ;)                                                                                                                         missing   \n",
       "looooool                                                                                                                                  missing   \n",
       "love my girlfriend                                                                                                                        missing   \n",
       "love skiing                                                                                                                               missing   \n",
       "my car is so fast                                                                                                                         missing   \n",
       "no way...i can't eat that shit                                                                                                            missing   \n",
       "nws: flash flood warning continued for shelby county until 08:00 pm wednesday. tnwx                                                       missing   \n",
       "officials say a quarantine is in place at an alabama home over a possible ebola case after developing symptoms...                         missing   \n",
       "omg earthquake                                                                                                                            missing   \n",
       "on the flip side i'm at walmart and there is a bomb and everyone had to evacuate so stay tuned if i blow up or not                        missing   \n",
       "our deeds are the reason of this earthquake may allah forgive us all                                                                      missing   \n",
       "raining flooding florida tampabay tampa 18 or 19 days. i've lost count                                                                    missing   \n",
       "rockyfire update => california hwy. 20 closed in both directions due to lake county fire - cafire wildfires                               missing   \n",
       "rt nws issues severe thunderstorm warnings for parts of ar nc ok. expect more trauma cases:                                               missing   \n",
       "severe weather bulletin no. 5 for: typhoon ûïhannaphû (soudelor) tropical cyclone: warning issued at 5:00 pm 06... û_                 missing   \n",
       "sirens everywhere!                                                                                                                        missing   \n",
       "sismo detectado japì_n 15:41:07 seismic intensity 0 iwate miyagi jst ??                                                                   missing   \n",
       "suicide bomber kills 15 in saudi security site mosque - reuters via world - google news - wall ...                                        missing   \n",
       "i'm on top of the hill and i can see a fire in the woods...                                                                               missing   \n",
       "i love fruits                                                                                                                             missing   \n",
       "i just heard a really loud bang and everyone is asleep great                                                                              missing   \n",
       "1.3 earthquake in 9km ssw of anza california iphone users download the earthquake app for more information                                missing   \n",
       "13,000 people receive wildfires evacuation orders in california                                                                           missing   \n",
       "a gas thing just exploded and i heard screams and now the whole street smells of gas ... ??                                               missing   \n",
       "a siren just went off and it wasn't the forney tornado warning ??                                                                         missing   \n",
       "all residents asked to 'shelter in place' are being notified by officers. no other evacuation or shelter in place orders are expected     missing   \n",
       "an is group suicide bomber detonated an explosives-packed vest in a mosque inside a saudi special forces headquarters killing 15 people.  missing   \n",
       "breaking la refugio oil spill may have been costlier bigger than projected                                                                missing   \n",
       "breaking: isis claims responsibility for mosque attack in saudi arabia that killed 13                                                     missing   \n",
       "calgary police flood road closures in calgary.                                                                                            missing   \n",
       "cooool :)                                                                                                                                 missing   \n",
       "damage to school bus on 80 in multi car crash breaking                                                                                    missing   \n",
       "do you like pasta?                                                                                                                        missing   \n",
       "father-of-three lost control of car after overtaking and collided bathandnortheastsomerset                                                missing   \n",
       "flood disaster heavy rain causes flash flooding of streets in manitou, colorado springs areas                                             missing   \n",
       "flood in bago myanmar we arrived bago                                                                                                     missing   \n",
       "forest fire near la ronge sask. canada                                                                                                    missing   \n",
       "haha south tampa is getting flooded hah- wait a second i live in south tampa what am i gonna do what am i gonna do fvck flooding          missing   \n",
       "heat wave warning aa? ayyo dei. just when i plan to visit friends after a year.                                                           missing   \n",
       "\n",
       "                                                                                                                                          target  \\\n",
       "clean_text                                                                                                                                         \n",
       "there's an emergency evacuation happening now in the building across the street                                                                1   \n",
       "these boxes are ready to explode! exploding kittens finally arrived! gameofkittens explodingkittensû_                                         0   \n",
       "this is ridiculous....                                                                                                                         0   \n",
       "three people died from the heat wave so far                                                                                                    1   \n",
       "was in nyc last week!                                                                                                                          0   \n",
       "what a goooooooaaaaaal!!!!!!                                                                                                                   0   \n",
       "what a wonderful day!                                                                                                                          0   \n",
       "what's up man?                                                                                                                                 0   \n",
       "the end!                                                                                                                                       0   \n",
       "i'm afraid that the tornado is coming to our area...                                                                                           1   \n",
       "summer is lovely                                                                                                                               0   \n",
       "just got sent this photo from ruby alaska as smoke from wildfires pours into a school                                                          1   \n",
       "london is cool ;)                                                                                                                              0   \n",
       "looooool                                                                                                                                       0   \n",
       "love my girlfriend                                                                                                                             0   \n",
       "love skiing                                                                                                                                    0   \n",
       "my car is so fast                                                                                                                              0   \n",
       "no way...i can't eat that shit                                                                                                                 0   \n",
       "nws: flash flood warning continued for shelby county until 08:00 pm wednesday. tnwx                                                            1   \n",
       "officials say a quarantine is in place at an alabama home over a possible ebola case after developing symptoms...                              1   \n",
       "omg earthquake                                                                                                                                 1   \n",
       "on the flip side i'm at walmart and there is a bomb and everyone had to evacuate so stay tuned if i blow up or not                             1   \n",
       "our deeds are the reason of this earthquake may allah forgive us all                                                                           1   \n",
       "raining flooding florida tampabay tampa 18 or 19 days. i've lost count                                                                         1   \n",
       "rockyfire update => california hwy. 20 closed in both directions due to lake county fire - cafire wildfires                                    1   \n",
       "rt nws issues severe thunderstorm warnings for parts of ar nc ok. expect more trauma cases:                                                    1   \n",
       "severe weather bulletin no. 5 for: typhoon ûïhannaphû (soudelor) tropical cyclone: warning issued at 5:00 pm 06... û_                      1   \n",
       "sirens everywhere!                                                                                                                             0   \n",
       "sismo detectado japì_n 15:41:07 seismic intensity 0 iwate miyagi jst ??                                                                        1   \n",
       "suicide bomber kills 15 in saudi security site mosque - reuters via world - google news - wall ...                                             1   \n",
       "i'm on top of the hill and i can see a fire in the woods...                                                                                    1   \n",
       "i love fruits                                                                                                                                  0   \n",
       "i just heard a really loud bang and everyone is asleep great                                                                                   0   \n",
       "1.3 earthquake in 9km ssw of anza california iphone users download the earthquake app for more information                                     1   \n",
       "13,000 people receive wildfires evacuation orders in california                                                                                1   \n",
       "a gas thing just exploded and i heard screams and now the whole street smells of gas ... ??                                                    1   \n",
       "a siren just went off and it wasn't the forney tornado warning ??                                                                              1   \n",
       "all residents asked to 'shelter in place' are being notified by officers. no other evacuation or shelter in place orders are expected          1   \n",
       "an is group suicide bomber detonated an explosives-packed vest in a mosque inside a saudi special forces headquarters killing 15 people.       1   \n",
       "breaking la refugio oil spill may have been costlier bigger than projected                                                                     1   \n",
       "breaking: isis claims responsibility for mosque attack in saudi arabia that killed 13                                                          1   \n",
       "calgary police flood road closures in calgary.                                                                                                 1   \n",
       "cooool :)                                                                                                                                      0   \n",
       "damage to school bus on 80 in multi car crash breaking                                                                                         1   \n",
       "do you like pasta?                                                                                                                             0   \n",
       "father-of-three lost control of car after overtaking and collided bathandnortheastsomerset                                                     1   \n",
       "flood disaster heavy rain causes flash flooding of streets in manitou, colorado springs areas                                                  1   \n",
       "flood in bago myanmar we arrived bago                                                                                                          1   \n",
       "forest fire near la ronge sask. canada                                                                                                         1   \n",
       "haha south tampa is getting flooded hah- wait a second i live in south tampa what am i gonna do what am i gonna do fvck flooding               1   \n",
       "heat wave warning aa? ayyo dei. just when i plan to visit friends after a year.                                                                1   \n",
       "\n",
       "                                                                                                                                          0  \n",
       "clean_text                                                                                                                                   \n",
       "there's an emergency evacuation happening now in the building across the street                                                           1  \n",
       "these boxes are ready to explode! exploding kittens finally arrived! gameofkittens explodingkittensû_                                    1  \n",
       "this is ridiculous....                                                                                                                    1  \n",
       "three people died from the heat wave so far                                                                                               1  \n",
       "was in nyc last week!                                                                                                                     1  \n",
       "what a goooooooaaaaaal!!!!!!                                                                                                              1  \n",
       "what a wonderful day!                                                                                                                     1  \n",
       "what's up man?                                                                                                                            1  \n",
       "the end!                                                                                                                                  1  \n",
       "i'm afraid that the tornado is coming to our area...                                                                                      1  \n",
       "summer is lovely                                                                                                                          1  \n",
       "just got sent this photo from ruby alaska as smoke from wildfires pours into a school                                                     1  \n",
       "london is cool ;)                                                                                                                         1  \n",
       "looooool                                                                                                                                  1  \n",
       "love my girlfriend                                                                                                                        1  \n",
       "love skiing                                                                                                                               1  \n",
       "my car is so fast                                                                                                                         1  \n",
       "no way...i can't eat that shit                                                                                                            1  \n",
       "nws: flash flood warning continued for shelby county until 08:00 pm wednesday. tnwx                                                       1  \n",
       "officials say a quarantine is in place at an alabama home over a possible ebola case after developing symptoms...                         1  \n",
       "omg earthquake                                                                                                                            1  \n",
       "on the flip side i'm at walmart and there is a bomb and everyone had to evacuate so stay tuned if i blow up or not                        1  \n",
       "our deeds are the reason of this earthquake may allah forgive us all                                                                      1  \n",
       "raining flooding florida tampabay tampa 18 or 19 days. i've lost count                                                                    1  \n",
       "rockyfire update => california hwy. 20 closed in both directions due to lake county fire - cafire wildfires                               1  \n",
       "rt nws issues severe thunderstorm warnings for parts of ar nc ok. expect more trauma cases:                                               1  \n",
       "severe weather bulletin no. 5 for: typhoon ûïhannaphû (soudelor) tropical cyclone: warning issued at 5:00 pm 06... û_                 1  \n",
       "sirens everywhere!                                                                                                                        1  \n",
       "sismo detectado japì_n 15:41:07 seismic intensity 0 iwate miyagi jst ??                                                                   1  \n",
       "suicide bomber kills 15 in saudi security site mosque - reuters via world - google news - wall ...                                        1  \n",
       "i'm on top of the hill and i can see a fire in the woods...                                                                               1  \n",
       "i love fruits                                                                                                                             1  \n",
       "i just heard a really loud bang and everyone is asleep great                                                                              1  \n",
       "1.3 earthquake in 9km ssw of anza california iphone users download the earthquake app for more information                                1  \n",
       "13,000 people receive wildfires evacuation orders in california                                                                           1  \n",
       "a gas thing just exploded and i heard screams and now the whole street smells of gas ... ??                                               1  \n",
       "a siren just went off and it wasn't the forney tornado warning ??                                                                         1  \n",
       "all residents asked to 'shelter in place' are being notified by officers. no other evacuation or shelter in place orders are expected     1  \n",
       "an is group suicide bomber detonated an explosives-packed vest in a mosque inside a saudi special forces headquarters killing 15 people.  1  \n",
       "breaking la refugio oil spill may have been costlier bigger than projected                                                                1  \n",
       "breaking: isis claims responsibility for mosque attack in saudi arabia that killed 13                                                     1  \n",
       "calgary police flood road closures in calgary.                                                                                            1  \n",
       "cooool :)                                                                                                                                 1  \n",
       "damage to school bus on 80 in multi car crash breaking                                                                                    1  \n",
       "do you like pasta?                                                                                                                        1  \n",
       "father-of-three lost control of car after overtaking and collided bathandnortheastsomerset                                                1  \n",
       "flood disaster heavy rain causes flash flooding of streets in manitou, colorado springs areas                                             1  \n",
       "flood in bago myanmar we arrived bago                                                                                                     1  \n",
       "forest fire near la ronge sask. canada                                                                                                    1  \n",
       "haha south tampa is getting flooded hah- wait a second i live in south tampa what am i gonna do what am i gonna do fvck flooding          1  \n",
       "heat wave warning aa? ayyo dei. just when i plan to visit friends after a year.                                                           1  "
      ]
     },
     "execution_count": 24,
     "metadata": {},
     "output_type": "execute_result"
    }
   ],
   "source": [
    "clean_train_df[clean_train_df.keyword == 'missing']"
   ]
  },
  {
   "cell_type": "markdown",
   "metadata": {},
   "source": [
    "We clean up the text in the test set as well."
   ]
  },
  {
   "cell_type": "code",
   "execution_count": 25,
   "metadata": {},
   "outputs": [],
   "source": [
    "test_df['clean_text'] = test_df['text'].apply(process_txt)"
   ]
  },
  {
   "cell_type": "code",
   "execution_count": 26,
   "metadata": {},
   "outputs": [],
   "source": [
    "clean_train_df.to_csv(INPUT_DIR/'clean_train_df.csv')\n",
    "test_df.to_csv(INPUT_DIR/'clean_test_df.csv')"
   ]
  },
  {
   "cell_type": "code",
   "execution_count": 27,
   "metadata": {},
   "outputs": [
    {
     "name": "stdout",
     "output_type": "stream",
     "text": [
      "NaN                      0.007968\n",
      "deluged                  0.007049\n",
      "rubble                   0.006742\n",
      "demolished               0.006742\n",
      "annihilation             0.006436\n",
      "                           ...   \n",
      "radiation%20emergency    0.001532\n",
      "forest%20fire            0.001532\n",
      "threat                   0.001532\n",
      "inundation               0.001226\n",
      "epicentre                0.000306\n",
      "Name: keyword, Length: 222, dtype: float64\n"
     ]
    }
   ],
   "source": [
    "print(test_df.keyword.value_counts(normalize=True, dropna=False))"
   ]
  },
  {
   "cell_type": "markdown",
   "metadata": {},
   "source": [
    "## Location"
   ]
  },
  {
   "cell_type": "code",
   "execution_count": 28,
   "metadata": {},
   "outputs": [
    {
     "name": "stdout",
     "output_type": "stream",
     "text": [
      "NaN                   0.332720\n",
      "USA                   0.013661\n",
      "New York              0.009326\n",
      "United States         0.006568\n",
      "London                0.005911\n",
      "                        ...   \n",
      "KLA,Uganda            0.000131\n",
      "On a beach            0.000131\n",
      "Austin/Los Angeles    0.000131\n",
      "#otrakansascity       0.000131\n",
      "The Internet          0.000131\n",
      "Name: location, Length: 3342, dtype: float64\n"
     ]
    }
   ],
   "source": [
    "print(train_df.location.value_counts(normalize=True, dropna=False))"
   ]
  },
  {
   "cell_type": "code",
   "execution_count": 29,
   "metadata": {},
   "outputs": [
    {
     "name": "stdout",
     "output_type": "stream",
     "text": [
      "NaN                               0.338645\n",
      "New York                          0.011646\n",
      "USA                               0.011339\n",
      "Worldwide                         0.004903\n",
      "United States                     0.004597\n",
      "                                    ...   \n",
      "9.25.14?8.5.15?10.6.15 | gen?     0.000306\n",
      "On The Island: Nassau, Bahamas    0.000306\n",
      "#ALLblacklivesmatter              0.000306\n",
      "Minneapolis, MN                   0.000306\n",
      "SweizyLand                        0.000306\n",
      "Name: location, Length: 1603, dtype: float64\n"
     ]
    }
   ],
   "source": [
    "print(test_df.location.value_counts(normalize=True, dropna=False))"
   ]
  }
 ],
 "metadata": {
  "kernelspec": {
   "display_name": "Python 3",
   "language": "python",
   "name": "python3"
  },
  "language_info": {
   "codemirror_mode": {
    "name": "ipython",
    "version": 3
   },
   "file_extension": ".py",
   "mimetype": "text/x-python",
   "name": "python",
   "nbconvert_exporter": "python",
   "pygments_lexer": "ipython3",
   "version": "3.8.5"
  }
 },
 "nbformat": 4,
 "nbformat_minor": 2
}
